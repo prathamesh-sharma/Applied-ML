{
 "cells": [
  {
   "cell_type": "code",
   "execution_count": 3,
   "metadata": {
    "colab": {
     "base_uri": "https://localhost:8080/",
     "height": 123
    },
    "colab_type": "code",
    "id": "p7tljhPj4DgY",
    "outputId": "03b6fde0-fe32-4a2c-f7ca-ee2360a3b0ec"
   },
   "outputs": [
    {
     "name": "stdout",
     "output_type": "stream",
     "text": [
      "Go to this URL in a browser: https://accounts.google.com/o/oauth2/auth?client_id=947318989803-6bn6qk8qdgf4n4g3pfee6491hc0brc4i.apps.googleusercontent.com&redirect_uri=urn%3aietf%3awg%3aoauth%3a2.0%3aoob&response_type=code&scope=email%20https%3a%2f%2fwww.googleapis.com%2fauth%2fdocs.test%20https%3a%2f%2fwww.googleapis.com%2fauth%2fdrive%20https%3a%2f%2fwww.googleapis.com%2fauth%2fdrive.photos.readonly%20https%3a%2f%2fwww.googleapis.com%2fauth%2fpeopleapi.readonly\n",
      "\n",
      "Enter your authorization code:\n",
      "··········\n",
      "Mounted at /content/drive\n"
     ]
    }
   ],
   "source": [
    "from google.colab import drive\n",
    "drive.mount('/content/drive')"
   ]
  },
  {
   "cell_type": "code",
   "execution_count": 4,
   "metadata": {
    "colab": {
     "base_uri": "https://localhost:8080/",
     "height": 34
    },
    "colab_type": "code",
    "id": "pOqZ77F14WLK",
    "outputId": "5f3035f9-31ec-46f2-8ff0-b9ab90647a11"
   },
   "outputs": [
    {
     "name": "stdout",
     "output_type": "stream",
     "text": [
      "/content/drive\n"
     ]
    }
   ],
   "source": [
    "cd drive/"
   ]
  },
  {
   "cell_type": "code",
   "execution_count": 5,
   "metadata": {
    "colab": {
     "base_uri": "https://localhost:8080/",
     "height": 34
    },
    "colab_type": "code",
    "id": "-dpr_0R05Prq",
    "outputId": "5cf63533-b28f-4f7b-ac56-3d7a8e58ac18"
   },
   "outputs": [
    {
     "name": "stdout",
     "output_type": "stream",
     "text": [
      "/content/drive/My Drive\n"
     ]
    }
   ],
   "source": [
    "cd 'My Drive'"
   ]
  },
  {
   "cell_type": "code",
   "execution_count": 6,
   "metadata": {
    "colab": {
     "base_uri": "https://localhost:8080/",
     "height": 34
    },
    "colab_type": "code",
    "id": "hWNIMANf5SdI",
    "outputId": "b8d83869-75e1-40bc-c6b9-c12b60586f4c"
   },
   "outputs": [
    {
     "name": "stdout",
     "output_type": "stream",
     "text": [
      "/content/drive/My Drive/Colab Notebooks\n"
     ]
    }
   ],
   "source": [
    "cd 'Colab Notebooks'"
   ]
  },
  {
   "cell_type": "code",
   "execution_count": 7,
   "metadata": {
    "colab": {
     "base_uri": "https://localhost:8080/",
     "height": 71
    },
    "colab_type": "code",
    "id": "e_x-fA6B5Y6o",
    "outputId": "11747727-126d-4636-e2b4-46fe015d274b"
   },
   "outputs": [
    {
     "name": "stderr",
     "output_type": "stream",
     "text": [
      "/usr/local/lib/python3.6/dist-packages/statsmodels/tools/_testing.py:19: FutureWarning: pandas.util.testing is deprecated. Use the functions in the public API at pandas.testing instead.\n",
      "  import pandas.util.testing as tm\n"
     ]
    }
   ],
   "source": [
    "from math import sqrt\n",
    "import pandas as pd\n",
    "import numpy as np\n",
    "import matplotlib.pyplot as plt\n",
    "import seaborn as sns\n",
    "import scipy.stats as stats"
   ]
  },
  {
   "cell_type": "code",
   "execution_count": 0,
   "metadata": {
    "colab": {},
    "colab_type": "code",
    "id": "z0yHRR325aaJ"
   },
   "outputs": [],
   "source": [
    "data= pd.read_csv('train.csv')  #training data\n",
    "\n",
    "test_data = pd.read_csv('test.csv')   #testing data"
   ]
  },
  {
   "cell_type": "code",
   "execution_count": 0,
   "metadata": {
    "colab": {
     "base_uri": "https://localhost:8080/",
     "height": 675
    },
    "colab_type": "code",
    "id": "NntrxnHq508h",
    "outputId": "fe92519e-b7ed-476f-ae8e-0bd6354e8c80"
   },
   "outputs": [
    {
     "name": "stdout",
     "output_type": "stream",
     "text": [
      "<class 'pandas.core.frame.DataFrame'>\n",
      "RangeIndex: 24846 entries, 0 to 24845\n",
      "Data columns (total 31 columns):\n",
      " #   Column  Non-Null Count  Dtype  \n",
      "---  ------  --------------  -----  \n",
      " 0   Id      24846 non-null  int64  \n",
      " 1   V1      22459 non-null  float64\n",
      " 2   V2      24846 non-null  float64\n",
      " 3   V3      24846 non-null  float64\n",
      " 4   V4      24846 non-null  float64\n",
      " 5   V5      24846 non-null  float64\n",
      " 6   V6      24846 non-null  float64\n",
      " 7   V7      24846 non-null  float64\n",
      " 8   V8      24846 non-null  float64\n",
      " 9   V9      24846 non-null  float64\n",
      " 10  V10     24846 non-null  float64\n",
      " 11  V11     24846 non-null  float64\n",
      " 12  V12     24846 non-null  float64\n",
      " 13  V13     24846 non-null  float64\n",
      " 14  V14     24846 non-null  float64\n",
      " 15  V15     24846 non-null  float64\n",
      " 16  V16     24846 non-null  float64\n",
      " 17  V17     24846 non-null  float64\n",
      " 18  V18     24846 non-null  float64\n",
      " 19  V19     24846 non-null  float64\n",
      " 20  V20     22317 non-null  float64\n",
      " 21  V21     24846 non-null  float64\n",
      " 22  V22     24846 non-null  float64\n",
      " 23  V23     24846 non-null  float64\n",
      " 24  V24     24846 non-null  float64\n",
      " 25  V25     24846 non-null  float64\n",
      " 26  V26     24846 non-null  float64\n",
      " 27  V27     24846 non-null  float64\n",
      " 28  V28     24846 non-null  float64\n",
      " 29  V29     24846 non-null  float64\n",
      " 30  Target  24846 non-null  int64  \n",
      "dtypes: float64(29), int64(2)\n",
      "memory usage: 5.9 MB\n"
     ]
    }
   ],
   "source": [
    "data.info()"
   ]
  },
  {
   "cell_type": "code",
   "execution_count": 0,
   "metadata": {
    "colab": {
     "base_uri": "https://localhost:8080/",
     "height": 320
    },
    "colab_type": "code",
    "id": "yr-RrSO0BoQz",
    "outputId": "8fac06ec-23b7-4096-9412-0ac5f58e92c8"
   },
   "outputs": [
    {
     "data": {
      "text/html": [
       "<div>\n",
       "<style scoped>\n",
       "    .dataframe tbody tr th:only-of-type {\n",
       "        vertical-align: middle;\n",
       "    }\n",
       "\n",
       "    .dataframe tbody tr th {\n",
       "        vertical-align: top;\n",
       "    }\n",
       "\n",
       "    .dataframe thead th {\n",
       "        text-align: right;\n",
       "    }\n",
       "</style>\n",
       "<table border=\"1\" class=\"dataframe\">\n",
       "  <thead>\n",
       "    <tr style=\"text-align: right;\">\n",
       "      <th></th>\n",
       "      <th>Id</th>\n",
       "      <th>V1</th>\n",
       "      <th>V2</th>\n",
       "      <th>V3</th>\n",
       "      <th>V4</th>\n",
       "      <th>V5</th>\n",
       "      <th>V6</th>\n",
       "      <th>V7</th>\n",
       "      <th>V8</th>\n",
       "      <th>V9</th>\n",
       "      <th>V10</th>\n",
       "      <th>V11</th>\n",
       "      <th>V12</th>\n",
       "      <th>V13</th>\n",
       "      <th>V14</th>\n",
       "      <th>V15</th>\n",
       "      <th>V16</th>\n",
       "      <th>V17</th>\n",
       "      <th>V18</th>\n",
       "      <th>V19</th>\n",
       "      <th>V20</th>\n",
       "      <th>V21</th>\n",
       "      <th>V22</th>\n",
       "      <th>V23</th>\n",
       "      <th>V24</th>\n",
       "      <th>V25</th>\n",
       "      <th>V26</th>\n",
       "      <th>V27</th>\n",
       "      <th>V28</th>\n",
       "      <th>V29</th>\n",
       "      <th>Target</th>\n",
       "    </tr>\n",
       "  </thead>\n",
       "  <tbody>\n",
       "    <tr>\n",
       "      <th>count</th>\n",
       "      <td>24846.000000</td>\n",
       "      <td>22459.000000</td>\n",
       "      <td>24846.000000</td>\n",
       "      <td>24846.000000</td>\n",
       "      <td>24846.000000</td>\n",
       "      <td>24846.000000</td>\n",
       "      <td>24846.000000</td>\n",
       "      <td>24846.000000</td>\n",
       "      <td>24846.000000</td>\n",
       "      <td>24846.000000</td>\n",
       "      <td>24846.000000</td>\n",
       "      <td>24846.000000</td>\n",
       "      <td>24846.000000</td>\n",
       "      <td>24846.000000</td>\n",
       "      <td>24846.000000</td>\n",
       "      <td>24846.000000</td>\n",
       "      <td>24846.000000</td>\n",
       "      <td>24846.000000</td>\n",
       "      <td>24846.000000</td>\n",
       "      <td>24846.000000</td>\n",
       "      <td>22317.000000</td>\n",
       "      <td>24846.000000</td>\n",
       "      <td>24846.000000</td>\n",
       "      <td>24846.000000</td>\n",
       "      <td>24846.000000</td>\n",
       "      <td>24846.000000</td>\n",
       "      <td>24846.000000</td>\n",
       "      <td>24846.000000</td>\n",
       "      <td>24846.000000</td>\n",
       "      <td>24846.000000</td>\n",
       "      <td>24846.000000</td>\n",
       "    </tr>\n",
       "    <tr>\n",
       "      <th>mean</th>\n",
       "      <td>141868.788095</td>\n",
       "      <td>-0.042032</td>\n",
       "      <td>0.019074</td>\n",
       "      <td>-0.055260</td>\n",
       "      <td>0.029289</td>\n",
       "      <td>-0.031085</td>\n",
       "      <td>-0.008175</td>\n",
       "      <td>-0.026007</td>\n",
       "      <td>0.014152</td>\n",
       "      <td>-0.017939</td>\n",
       "      <td>-0.035149</td>\n",
       "      <td>0.024294</td>\n",
       "      <td>-0.049479</td>\n",
       "      <td>0.001362</td>\n",
       "      <td>-0.054444</td>\n",
       "      <td>0.002910</td>\n",
       "      <td>-0.042306</td>\n",
       "      <td>-0.056821</td>\n",
       "      <td>-0.014644</td>\n",
       "      <td>0.002778</td>\n",
       "      <td>0.003860</td>\n",
       "      <td>0.004708</td>\n",
       "      <td>0.006116</td>\n",
       "      <td>-0.004320</td>\n",
       "      <td>-0.005632</td>\n",
       "      <td>0.003193</td>\n",
       "      <td>0.001730</td>\n",
       "      <td>0.003160</td>\n",
       "      <td>-0.000100</td>\n",
       "      <td>91.698618</td>\n",
       "      <td>0.009820</td>\n",
       "    </tr>\n",
       "    <tr>\n",
       "      <th>std</th>\n",
       "      <td>82016.035976</td>\n",
       "      <td>2.061469</td>\n",
       "      <td>1.722647</td>\n",
       "      <td>1.730072</td>\n",
       "      <td>1.482053</td>\n",
       "      <td>1.616062</td>\n",
       "      <td>1.413044</td>\n",
       "      <td>1.620777</td>\n",
       "      <td>1.236557</td>\n",
       "      <td>1.140772</td>\n",
       "      <td>1.279021</td>\n",
       "      <td>1.099884</td>\n",
       "      <td>1.216934</td>\n",
       "      <td>0.992960</td>\n",
       "      <td>1.204090</td>\n",
       "      <td>0.917929</td>\n",
       "      <td>1.009002</td>\n",
       "      <td>1.184588</td>\n",
       "      <td>0.891371</td>\n",
       "      <td>0.825121</td>\n",
       "      <td>0.832891</td>\n",
       "      <td>0.753043</td>\n",
       "      <td>0.728869</td>\n",
       "      <td>0.622440</td>\n",
       "      <td>0.602507</td>\n",
       "      <td>0.518214</td>\n",
       "      <td>0.483415</td>\n",
       "      <td>0.455299</td>\n",
       "      <td>0.314326</td>\n",
       "      <td>310.349300</td>\n",
       "      <td>0.098613</td>\n",
       "    </tr>\n",
       "    <tr>\n",
       "      <th>min</th>\n",
       "      <td>32.000000</td>\n",
       "      <td>-37.054295</td>\n",
       "      <td>-39.818310</td>\n",
       "      <td>-48.325589</td>\n",
       "      <td>-5.231828</td>\n",
       "      <td>-113.743307</td>\n",
       "      <td>-19.996349</td>\n",
       "      <td>-37.060311</td>\n",
       "      <td>-39.688571</td>\n",
       "      <td>-11.126624</td>\n",
       "      <td>-23.228255</td>\n",
       "      <td>-4.568390</td>\n",
       "      <td>-18.683715</td>\n",
       "      <td>-3.844974</td>\n",
       "      <td>-19.214325</td>\n",
       "      <td>-4.498945</td>\n",
       "      <td>-14.129855</td>\n",
       "      <td>-25.162799</td>\n",
       "      <td>-9.287832</td>\n",
       "      <td>-4.395283</td>\n",
       "      <td>-54.497720</td>\n",
       "      <td>-21.620120</td>\n",
       "      <td>-8.887017</td>\n",
       "      <td>-23.222016</td>\n",
       "      <td>-2.759942</td>\n",
       "      <td>-4.930750</td>\n",
       "      <td>-1.658162</td>\n",
       "      <td>-7.976100</td>\n",
       "      <td>-15.430084</td>\n",
       "      <td>0.000000</td>\n",
       "      <td>0.000000</td>\n",
       "    </tr>\n",
       "    <tr>\n",
       "      <th>25%</th>\n",
       "      <td>70705.000000</td>\n",
       "      <td>-0.941997</td>\n",
       "      <td>-0.611444</td>\n",
       "      <td>-0.918977</td>\n",
       "      <td>-0.853705</td>\n",
       "      <td>-0.705745</td>\n",
       "      <td>-0.778707</td>\n",
       "      <td>-0.565469</td>\n",
       "      <td>-0.207270</td>\n",
       "      <td>-0.659425</td>\n",
       "      <td>-0.543054</td>\n",
       "      <td>-0.765464</td>\n",
       "      <td>-0.423463</td>\n",
       "      <td>-0.646768</td>\n",
       "      <td>-0.434402</td>\n",
       "      <td>-0.579738</td>\n",
       "      <td>-0.487703</td>\n",
       "      <td>-0.491669</td>\n",
       "      <td>-0.505933</td>\n",
       "      <td>-0.458749</td>\n",
       "      <td>-0.212758</td>\n",
       "      <td>-0.225318</td>\n",
       "      <td>-0.528751</td>\n",
       "      <td>-0.163086</td>\n",
       "      <td>-0.363609</td>\n",
       "      <td>-0.310198</td>\n",
       "      <td>-0.325839</td>\n",
       "      <td>-0.069698</td>\n",
       "      <td>-0.053829</td>\n",
       "      <td>5.470000</td>\n",
       "      <td>0.000000</td>\n",
       "    </tr>\n",
       "    <tr>\n",
       "      <th>50%</th>\n",
       "      <td>141887.000000</td>\n",
       "      <td>0.002750</td>\n",
       "      <td>0.068992</td>\n",
       "      <td>0.163070</td>\n",
       "      <td>-0.006193</td>\n",
       "      <td>-0.070299</td>\n",
       "      <td>-0.279575</td>\n",
       "      <td>0.032157</td>\n",
       "      <td>0.026507</td>\n",
       "      <td>-0.056063</td>\n",
       "      <td>-0.094353</td>\n",
       "      <td>-0.041019</td>\n",
       "      <td>0.137088</td>\n",
       "      <td>-0.005918</td>\n",
       "      <td>0.051674</td>\n",
       "      <td>0.053821</td>\n",
       "      <td>0.047246</td>\n",
       "      <td>-0.077799</td>\n",
       "      <td>-0.007094</td>\n",
       "      <td>0.003545</td>\n",
       "      <td>-0.060477</td>\n",
       "      <td>-0.026834</td>\n",
       "      <td>0.016988</td>\n",
       "      <td>-0.011396</td>\n",
       "      <td>0.036837</td>\n",
       "      <td>0.020346</td>\n",
       "      <td>-0.049872</td>\n",
       "      <td>0.001493</td>\n",
       "      <td>0.010855</td>\n",
       "      <td>21.990000</td>\n",
       "      <td>0.000000</td>\n",
       "    </tr>\n",
       "    <tr>\n",
       "      <th>75%</th>\n",
       "      <td>212513.500000</td>\n",
       "      <td>1.309469</td>\n",
       "      <td>0.825253</td>\n",
       "      <td>1.016704</td>\n",
       "      <td>0.759149</td>\n",
       "      <td>0.598372</td>\n",
       "      <td>0.402585</td>\n",
       "      <td>0.569205</td>\n",
       "      <td>0.335042</td>\n",
       "      <td>0.586035</td>\n",
       "      <td>0.454624</td>\n",
       "      <td>0.749140</td>\n",
       "      <td>0.621207</td>\n",
       "      <td>0.664828</td>\n",
       "      <td>0.485664</td>\n",
       "      <td>0.654127</td>\n",
       "      <td>0.510476</td>\n",
       "      <td>0.390588</td>\n",
       "      <td>0.497511</td>\n",
       "      <td>0.456741</td>\n",
       "      <td>0.137391</td>\n",
       "      <td>0.192690</td>\n",
       "      <td>0.533115</td>\n",
       "      <td>0.147343</td>\n",
       "      <td>0.433292</td>\n",
       "      <td>0.352613</td>\n",
       "      <td>0.241366</td>\n",
       "      <td>0.093725</td>\n",
       "      <td>0.079364</td>\n",
       "      <td>77.900000</td>\n",
       "      <td>0.000000</td>\n",
       "    </tr>\n",
       "    <tr>\n",
       "      <th>max</th>\n",
       "      <td>284781.000000</td>\n",
       "      <td>2.418267</td>\n",
       "      <td>19.167239</td>\n",
       "      <td>3.862590</td>\n",
       "      <td>15.304184</td>\n",
       "      <td>28.762671</td>\n",
       "      <td>73.301626</td>\n",
       "      <td>120.589494</td>\n",
       "      <td>19.587773</td>\n",
       "      <td>8.918202</td>\n",
       "      <td>15.331742</td>\n",
       "      <td>12.018913</td>\n",
       "      <td>4.242791</td>\n",
       "      <td>7.126883</td>\n",
       "      <td>7.439566</td>\n",
       "      <td>8.877742</td>\n",
       "      <td>17.315112</td>\n",
       "      <td>7.733456</td>\n",
       "      <td>4.093440</td>\n",
       "      <td>5.501747</td>\n",
       "      <td>17.819507</td>\n",
       "      <td>27.202839</td>\n",
       "      <td>8.272233</td>\n",
       "      <td>17.606637</td>\n",
       "      <td>4.584549</td>\n",
       "      <td>4.554683</td>\n",
       "      <td>3.415636</td>\n",
       "      <td>31.612198</td>\n",
       "      <td>15.522649</td>\n",
       "      <td>25691.160000</td>\n",
       "      <td>1.000000</td>\n",
       "    </tr>\n",
       "  </tbody>\n",
       "</table>\n",
       "</div>"
      ],
      "text/plain": [
       "                  Id            V1  ...           V29        Target\n",
       "count   24846.000000  22459.000000  ...  24846.000000  24846.000000\n",
       "mean   141868.788095     -0.042032  ...     91.698618      0.009820\n",
       "std     82016.035976      2.061469  ...    310.349300      0.098613\n",
       "min        32.000000    -37.054295  ...      0.000000      0.000000\n",
       "25%     70705.000000     -0.941997  ...      5.470000      0.000000\n",
       "50%    141887.000000      0.002750  ...     21.990000      0.000000\n",
       "75%    212513.500000      1.309469  ...     77.900000      0.000000\n",
       "max    284781.000000      2.418267  ...  25691.160000      1.000000\n",
       "\n",
       "[8 rows x 31 columns]"
      ]
     },
     "execution_count": 11,
     "metadata": {
      "tags": []
     },
     "output_type": "execute_result"
    }
   ],
   "source": [
    "data.describe()"
   ]
  },
  {
   "cell_type": "code",
   "execution_count": 0,
   "metadata": {
    "colab": {
     "base_uri": "https://localhost:8080/",
     "height": 226
    },
    "colab_type": "code",
    "id": "AurdHuPZ6SFL",
    "outputId": "a6b29d58-9ada-40df-f4a0-f392bfde9730"
   },
   "outputs": [
    {
     "data": {
      "text/html": [
       "<div>\n",
       "<style scoped>\n",
       "    .dataframe tbody tr th:only-of-type {\n",
       "        vertical-align: middle;\n",
       "    }\n",
       "\n",
       "    .dataframe tbody tr th {\n",
       "        vertical-align: top;\n",
       "    }\n",
       "\n",
       "    .dataframe thead th {\n",
       "        text-align: right;\n",
       "    }\n",
       "</style>\n",
       "<table border=\"1\" class=\"dataframe\">\n",
       "  <thead>\n",
       "    <tr style=\"text-align: right;\">\n",
       "      <th></th>\n",
       "      <th>Id</th>\n",
       "      <th>V1</th>\n",
       "      <th>V2</th>\n",
       "      <th>V3</th>\n",
       "      <th>V4</th>\n",
       "      <th>V5</th>\n",
       "      <th>V6</th>\n",
       "      <th>V7</th>\n",
       "      <th>V8</th>\n",
       "      <th>V9</th>\n",
       "      <th>V10</th>\n",
       "      <th>V11</th>\n",
       "      <th>V12</th>\n",
       "      <th>V13</th>\n",
       "      <th>V14</th>\n",
       "      <th>V15</th>\n",
       "      <th>V16</th>\n",
       "      <th>V17</th>\n",
       "      <th>V18</th>\n",
       "      <th>V19</th>\n",
       "      <th>V20</th>\n",
       "      <th>V21</th>\n",
       "      <th>V22</th>\n",
       "      <th>V23</th>\n",
       "      <th>V24</th>\n",
       "      <th>V25</th>\n",
       "      <th>V26</th>\n",
       "      <th>V27</th>\n",
       "      <th>V28</th>\n",
       "      <th>V29</th>\n",
       "      <th>Target</th>\n",
       "    </tr>\n",
       "  </thead>\n",
       "  <tbody>\n",
       "    <tr>\n",
       "      <th>0</th>\n",
       "      <td>138662</td>\n",
       "      <td>-0.711273</td>\n",
       "      <td>1.272483</td>\n",
       "      <td>1.681631</td>\n",
       "      <td>0.039897</td>\n",
       "      <td>-0.312381</td>\n",
       "      <td>-1.161083</td>\n",
       "      <td>0.853875</td>\n",
       "      <td>-0.173979</td>\n",
       "      <td>-0.438558</td>\n",
       "      <td>-0.053805</td>\n",
       "      <td>0.321036</td>\n",
       "      <td>0.814690</td>\n",
       "      <td>1.226450</td>\n",
       "      <td>-0.152389</td>\n",
       "      <td>0.687480</td>\n",
       "      <td>-0.030825</td>\n",
       "      <td>-0.284477</td>\n",
       "      <td>-0.696867</td>\n",
       "      <td>-0.227419</td>\n",
       "      <td>0.298008</td>\n",
       "      <td>-0.208181</td>\n",
       "      <td>-0.414631</td>\n",
       "      <td>0.057957</td>\n",
       "      <td>0.930321</td>\n",
       "      <td>-0.165598</td>\n",
       "      <td>0.038799</td>\n",
       "      <td>0.384295</td>\n",
       "      <td>0.192762</td>\n",
       "      <td>21.87</td>\n",
       "      <td>0</td>\n",
       "    </tr>\n",
       "    <tr>\n",
       "      <th>1</th>\n",
       "      <td>235999</td>\n",
       "      <td>1.990679</td>\n",
       "      <td>-0.128465</td>\n",
       "      <td>-1.700556</td>\n",
       "      <td>0.529839</td>\n",
       "      <td>0.136889</td>\n",
       "      <td>-1.404270</td>\n",
       "      <td>0.593353</td>\n",
       "      <td>-0.456700</td>\n",
       "      <td>0.648260</td>\n",
       "      <td>-0.071353</td>\n",
       "      <td>-0.982339</td>\n",
       "      <td>0.229658</td>\n",
       "      <td>-0.592959</td>\n",
       "      <td>0.574159</td>\n",
       "      <td>-0.263545</td>\n",
       "      <td>-0.780886</td>\n",
       "      <td>-0.066039</td>\n",
       "      <td>-0.575168</td>\n",
       "      <td>0.227544</td>\n",
       "      <td>-0.205092</td>\n",
       "      <td>0.018179</td>\n",
       "      <td>0.179084</td>\n",
       "      <td>-0.004248</td>\n",
       "      <td>0.039531</td>\n",
       "      <td>0.333765</td>\n",
       "      <td>-0.225201</td>\n",
       "      <td>-0.047285</td>\n",
       "      <td>-0.059682</td>\n",
       "      <td>49.99</td>\n",
       "      <td>0</td>\n",
       "    </tr>\n",
       "    <tr>\n",
       "      <th>2</th>\n",
       "      <td>245376</td>\n",
       "      <td>1.812653</td>\n",
       "      <td>-0.476162</td>\n",
       "      <td>-0.338988</td>\n",
       "      <td>1.386750</td>\n",
       "      <td>-0.745965</td>\n",
       "      <td>-0.449870</td>\n",
       "      <td>-0.492226</td>\n",
       "      <td>0.029904</td>\n",
       "      <td>1.129394</td>\n",
       "      <td>0.227346</td>\n",
       "      <td>-1.197477</td>\n",
       "      <td>-0.555129</td>\n",
       "      <td>-1.369130</td>\n",
       "      <td>0.320282</td>\n",
       "      <td>1.002745</td>\n",
       "      <td>0.501765</td>\n",
       "      <td>-0.670053</td>\n",
       "      <td>0.478236</td>\n",
       "      <td>-0.820942</td>\n",
       "      <td>-0.202894</td>\n",
       "      <td>0.252668</td>\n",
       "      <td>0.655719</td>\n",
       "      <td>0.090057</td>\n",
       "      <td>-0.136884</td>\n",
       "      <td>-0.172452</td>\n",
       "      <td>-0.556921</td>\n",
       "      <td>0.036490</td>\n",
       "      <td>-0.021575</td>\n",
       "      <td>79.00</td>\n",
       "      <td>0</td>\n",
       "    </tr>\n",
       "    <tr>\n",
       "      <th>3</th>\n",
       "      <td>202483</td>\n",
       "      <td>-1.014219</td>\n",
       "      <td>0.522775</td>\n",
       "      <td>-0.337978</td>\n",
       "      <td>-1.957797</td>\n",
       "      <td>3.578395</td>\n",
       "      <td>3.266965</td>\n",
       "      <td>0.602857</td>\n",
       "      <td>0.644645</td>\n",
       "      <td>-0.305879</td>\n",
       "      <td>-0.417906</td>\n",
       "      <td>0.010333</td>\n",
       "      <td>-0.299630</td>\n",
       "      <td>-0.379164</td>\n",
       "      <td>0.329193</td>\n",
       "      <td>0.957904</td>\n",
       "      <td>-0.417285</td>\n",
       "      <td>-0.705683</td>\n",
       "      <td>-0.063235</td>\n",
       "      <td>-0.381035</td>\n",
       "      <td>0.136061</td>\n",
       "      <td>0.147742</td>\n",
       "      <td>0.590740</td>\n",
       "      <td>-0.680551</td>\n",
       "      <td>0.745346</td>\n",
       "      <td>1.119496</td>\n",
       "      <td>0.013520</td>\n",
       "      <td>0.004530</td>\n",
       "      <td>-0.132643</td>\n",
       "      <td>6.00</td>\n",
       "      <td>0</td>\n",
       "    </tr>\n",
       "    <tr>\n",
       "      <th>4</th>\n",
       "      <td>9710</td>\n",
       "      <td>-0.967270</td>\n",
       "      <td>-0.053815</td>\n",
       "      <td>2.273463</td>\n",
       "      <td>-0.894434</td>\n",
       "      <td>0.728924</td>\n",
       "      <td>0.153524</td>\n",
       "      <td>-0.038330</td>\n",
       "      <td>0.165252</td>\n",
       "      <td>1.172526</td>\n",
       "      <td>-0.879114</td>\n",
       "      <td>2.505831</td>\n",
       "      <td>-2.249565</td>\n",
       "      <td>0.791677</td>\n",
       "      <td>1.546279</td>\n",
       "      <td>-0.133370</td>\n",
       "      <td>0.184501</td>\n",
       "      <td>0.307080</td>\n",
       "      <td>-0.081722</td>\n",
       "      <td>-1.359941</td>\n",
       "      <td>0.007512</td>\n",
       "      <td>0.106692</td>\n",
       "      <td>0.514430</td>\n",
       "      <td>-0.081546</td>\n",
       "      <td>-0.305042</td>\n",
       "      <td>-0.354883</td>\n",
       "      <td>0.896254</td>\n",
       "      <td>-0.182293</td>\n",
       "      <td>-0.142810</td>\n",
       "      <td>15.95</td>\n",
       "      <td>0</td>\n",
       "    </tr>\n",
       "  </tbody>\n",
       "</table>\n",
       "</div>"
      ],
      "text/plain": [
       "       Id        V1        V2        V3  ...       V27       V28    V29  Target\n",
       "0  138662 -0.711273  1.272483  1.681631  ...  0.384295  0.192762  21.87       0\n",
       "1  235999  1.990679 -0.128465 -1.700556  ... -0.047285 -0.059682  49.99       0\n",
       "2  245376  1.812653 -0.476162 -0.338988  ...  0.036490 -0.021575  79.00       0\n",
       "3  202483 -1.014219  0.522775 -0.337978  ...  0.004530 -0.132643   6.00       0\n",
       "4    9710 -0.967270 -0.053815  2.273463  ... -0.182293 -0.142810  15.95       0\n",
       "\n",
       "[5 rows x 31 columns]"
      ]
     },
     "execution_count": 12,
     "metadata": {
      "tags": []
     },
     "output_type": "execute_result"
    }
   ],
   "source": [
    "data.head()"
   ]
  },
  {
   "cell_type": "code",
   "execution_count": 0,
   "metadata": {
    "colab": {},
    "colab_type": "code",
    "id": "x3DWfCT1WqgP"
   },
   "outputs": [],
   "source": [
    "data= data.drop(['Id'], axis=1)\n",
    "\n",
    "test_data_subset= test_data.drop(['Id'], axis=1)"
   ]
  },
  {
   "cell_type": "markdown",
   "metadata": {
    "colab_type": "text",
    "id": "ZnfPGKOVeKCJ"
   },
   "source": [
    "Quantifying missing data"
   ]
  },
  {
   "cell_type": "code",
   "execution_count": 0,
   "metadata": {
    "colab": {
     "base_uri": "https://localhost:8080/",
     "height": 554
    },
    "colab_type": "code",
    "id": "_0Vu4xYFd_Tf",
    "outputId": "eb73c226-7e10-44af-f1a2-88b105974d81"
   },
   "outputs": [
    {
     "data": {
      "text/plain": [
       "V1        2387\n",
       "V2           0\n",
       "V3           0\n",
       "V4           0\n",
       "V5           0\n",
       "V6           0\n",
       "V7           0\n",
       "V8           0\n",
       "V9           0\n",
       "V10          0\n",
       "V11          0\n",
       "V12          0\n",
       "V13          0\n",
       "V14          0\n",
       "V15          0\n",
       "V16          0\n",
       "V17          0\n",
       "V18          0\n",
       "V19          0\n",
       "V20       2529\n",
       "V21          0\n",
       "V22          0\n",
       "V23          0\n",
       "V24          0\n",
       "V25          0\n",
       "V26          0\n",
       "V27          0\n",
       "V28          0\n",
       "V29          0\n",
       "Target       0\n",
       "dtype: int64"
      ]
     },
     "execution_count": 17,
     "metadata": {
      "tags": []
     },
     "output_type": "execute_result"
    }
   ],
   "source": [
    "data.isnull().sum()"
   ]
  },
  {
   "cell_type": "markdown",
   "metadata": {
    "colab_type": "text",
    "id": "wBGq5s5CeRWQ"
   },
   "source": [
    "Examining correlation between predictors and target variable- Target"
   ]
  },
  {
   "cell_type": "code",
   "execution_count": 0,
   "metadata": {
    "colab": {
     "base_uri": "https://localhost:8080/",
     "height": 525
    },
    "colab_type": "code",
    "id": "xe2xLpAPeXOZ",
    "outputId": "1faa6372-48ad-4840-8312-659fbe20d31c"
   },
   "outputs": [
    {
     "data": {
      "text/plain": [
       "<matplotlib.axes._subplots.AxesSubplot at 0x7f8b09123c88>"
      ]
     },
     "execution_count": 19,
     "metadata": {
      "tags": []
     },
     "output_type": "execute_result"
    },
    {
     "data": {
      "image/png": "[encoded data removed]",
      "text/plain": [
       "<Figure size 1080x576 with 2 Axes>"
      ]
     },
     "metadata": {
      "needs_background": "light",
      "tags": []
     },
     "output_type": "display_data"
    }
   ],
   "source": [
    "import seaborn as sns\n",
    "f, ax = plt.subplots(figsize=(15, 8))\n",
    "corr = data.corr()\n",
    "sns.heatmap(corr, mask=np.zeros_like(corr, dtype=np.bool), square=True, ax=ax\n",
    ")"
   ]
  },
  {
   "cell_type": "code",
   "execution_count": 0,
   "metadata": {
    "colab": {
     "base_uri": "https://localhost:8080/",
     "height": 554
    },
    "colab_type": "code",
    "id": "zixWZV0nevs3",
    "outputId": "f698bbaf-465a-4466-ba5e-bcd07b6dff84"
   },
   "outputs": [
    {
     "data": {
      "text/plain": [
       "Target    1.000000\n",
       "V11       0.341171\n",
       "V4        0.295945\n",
       "V2        0.185381\n",
       "V21       0.077196\n",
       "V19       0.076551\n",
       "V27       0.047742\n",
       "V20       0.044262\n",
       "V28       0.035649\n",
       "V8        0.033173\n",
       "V29       0.011367\n",
       "V26       0.011199\n",
       "V22       0.008985\n",
       "V25       0.006527\n",
       "V23      -0.003234\n",
       "V15      -0.008808\n",
       "V13      -0.010334\n",
       "V24      -0.020789\n",
       "V6       -0.098290\n",
       "V5       -0.156473\n",
       "V1       -0.195578\n",
       "V9       -0.209813\n",
       "V18      -0.222202\n",
       "V7       -0.297257\n",
       "V3       -0.358543\n",
       "V16      -0.385035\n",
       "V10      -0.420856\n",
       "V12      -0.501896\n",
       "V17      -0.514565\n",
       "V14      -0.572866\n",
       "Name: Target, dtype: float64"
      ]
     },
     "execution_count": 20,
     "metadata": {
      "tags": []
     },
     "output_type": "execute_result"
    }
   ],
   "source": [
    "target_corr= data.corr()\n",
    "target_corr['Target'].sort_values(ascending=False)"
   ]
  },
  {
   "cell_type": "code",
   "execution_count": 10,
   "metadata": {
    "colab": {
     "base_uri": "https://localhost:8080/",
     "height": 34
    },
    "colab_type": "code",
    "id": "hH7EJoNkjcQ_",
    "outputId": "8445af8f-3430-45be-8143-123d0821a6c2"
   },
   "outputs": [
    {
     "name": "stdout",
     "output_type": "stream",
     "text": [
      "There are 29 continuous variables\n"
     ]
    }
   ],
   "source": [
    "continuous = [\n",
    "    var for var in data.columns if data[var].dtype != 'O'\n",
    "    if var not in ['Target']\n",
    "]\n",
    "\n",
    "print(f'There are {len(continuous)} continuous variables')\n"
   ]
  },
  {
   "cell_type": "code",
   "execution_count": 11,
   "metadata": {
    "colab": {
     "base_uri": "https://localhost:8080/",
     "height": 34
    },
    "colab_type": "code",
    "id": "srKVPY7am4sg",
    "outputId": "50b43927-21d0-4b2d-fb44-849645c79460"
   },
   "outputs": [
    {
     "name": "stdout",
     "output_type": "stream",
     "text": [
      "There are 29 continuous variables\n"
     ]
    }
   ],
   "source": [
    "test_continuous = [\n",
    "    var for var in test_data_subset.columns if test_data_subset[var].dtype != 'O'\n",
    "    if var not in ['Target']\n",
    "]\n",
    "\n",
    "print(f'There are {len(continuous)} continuous variables')"
   ]
  },
  {
   "cell_type": "markdown",
   "metadata": {
    "colab_type": "text",
    "id": "R3wYno3dssGE"
   },
   "source": [
    "Observing distributions of predictor variables"
   ]
  },
  {
   "cell_type": "code",
   "execution_count": 0,
   "metadata": {
    "colab": {
     "base_uri": "https://localhost:8080/",
     "height": 823
    },
    "colab_type": "code",
    "id": "_dwYUYu6qT7d",
    "outputId": "76a502fb-2580-4b4d-8a72-8cd1794473b3"
   },
   "outputs": [
    {
     "data": {
      "image/png": "[encoded data removed]",
      "text/plain": [
       "<Figure size 1008x1008 with 30 Axes>"
      ]
     },
     "metadata": {
      "needs_background": "light",
      "tags": []
     },
     "output_type": "display_data"
    }
   ],
   "source": [
    "fig, axs = plt.subplots(ncols=5, nrows=6,figsize=(14,14))\n",
    "axs = axs.flatten()\n",
    "\n",
    "for i, var in enumerate(continuous):\n",
    "    sns.distplot(data[data[var].notnull()][var], ax=axs[i]);"
   ]
  },
  {
   "cell_type": "markdown",
   "metadata": {
    "colab_type": "text",
    "id": "Wh1G7-gCtBH6"
   },
   "source": [
    "Plotting outliers using boxplot"
   ]
  },
  {
   "cell_type": "code",
   "execution_count": 0,
   "metadata": {
    "colab": {
     "base_uri": "https://localhost:8080/",
     "height": 823
    },
    "colab_type": "code",
    "id": "4Abe7lB9tBsl",
    "outputId": "cda6c583-7bca-4449-fcc6-8f771170c06e"
   },
   "outputs": [
    {
     "data": {
      "image/png": "[encoded data removed]",
      "text/plain": [
       "<Figure size 1008x1008 with 30 Axes>"
      ]
     },
     "metadata": {
      "needs_background": "light",
      "tags": []
     },
     "output_type": "display_data"
    }
   ],
   "source": [
    "fig, axs = plt.subplots(ncols=5, nrows=6,figsize=(14,14))\n",
    "axs = axs.flatten()\n",
    "\n",
    "for i, var in enumerate(continuous):\n",
    "    sns.boxplot(data[data[var].notnull()][var], ax=axs[i], orient='h');"
   ]
  },
  {
   "cell_type": "markdown",
   "metadata": {
    "colab_type": "text",
    "id": "T0dq1OOquFcd"
   },
   "source": [
    "Dividing into training and test sets"
   ]
  },
  {
   "cell_type": "code",
   "execution_count": 12,
   "metadata": {
    "colab": {
     "base_uri": "https://localhost:8080/",
     "height": 51
    },
    "colab_type": "code",
    "id": "7_-SuN0HuFJa",
    "outputId": "05f308ac-d5a1-4d5c-ac55-aacf3bea2bd2"
   },
   "outputs": [
    {
     "name": "stdout",
     "output_type": "stream",
     "text": [
      "(17392, 29) (17392,)\n",
      "(7454, 29) (7454,)\n"
     ]
    }
   ],
   "source": [
    "from sklearn.model_selection import train_test_split\n",
    "X_train, X_test, y_train, y_test = train_test_split(data.drop(['Target'], axis=1),\n",
    "                                                    data['Target'],\n",
    "                                                    test_size=0.3,\n",
    "                                                    random_state=0)\n",
    "\n",
    "print(X_train.shape, y_train.shape)\n",
    "print(X_test.shape, y_test.shape)"
   ]
  },
  {
   "cell_type": "code",
   "execution_count": 0,
   "metadata": {
    "colab": {},
    "colab_type": "code",
    "id": "5DbIbj0DvBsl"
   },
   "outputs": [],
   "source": [
    "import warnings\n",
    "warnings.filterwarnings('ignore')"
   ]
  },
  {
   "cell_type": "markdown",
   "metadata": {
    "colab_type": "text",
    "id": "iMn3Qke6uo28"
   },
   "source": [
    "\n",
    "\n",
    "Transforming predictors using the feature engineering pipeline"
   ]
  },
  {
   "cell_type": "code",
   "execution_count": 14,
   "metadata": {
    "colab": {
     "base_uri": "https://localhost:8080/",
     "height": 453
    },
    "colab_type": "code",
    "id": "zGnQMOx1usv7",
    "outputId": "e8954083-16d4-4f6b-aeb6-8e76b4b14c06"
   },
   "outputs": [
    {
     "name": "stdout",
     "output_type": "stream",
     "text": [
      "Collecting feature_engine\n",
      "  Downloading https://files.pythonhosted.org/packages/bf/08/4d56c3cd33a87650882fb0247d761e1f40687b8f9b4c11cbc431ff6f43c4/feature_engine-0.4.2-py2.py3-none-any.whl\n",
      "Requirement already satisfied: scikit-learn<0.23.0,>=0.22.2 in /usr/local/lib/python3.6/dist-packages (from feature_engine) (0.22.2.post1)\n",
      "Requirement already satisfied: scipy<1.5.0,>=1.4.1 in /usr/local/lib/python3.6/dist-packages (from feature_engine) (1.4.1)\n",
      "Requirement already satisfied: numpy<1.19.0,>=1.18.2 in /usr/local/lib/python3.6/dist-packages (from feature_engine) (1.18.4)\n",
      "Collecting statsmodels<0.12.0,>=0.11.1\n",
      "\u001b[?25l  Downloading https://files.pythonhosted.org/packages/cb/83/540fd83238a18abe6c2d280fa8e489ac5fcefa1f370f0ca1acd16ae1b860/statsmodels-0.11.1-cp36-cp36m-manylinux1_x86_64.whl (8.7MB)\n",
      "\u001b[K     |████████████████████████████████| 8.7MB 5.0MB/s \n",
      "\u001b[?25hRequirement already satisfied: pandas<1.1.0,>=1.0.3 in /usr/local/lib/python3.6/dist-packages (from feature_engine) (1.0.3)\n",
      "Requirement already satisfied: joblib>=0.11 in /usr/local/lib/python3.6/dist-packages (from scikit-learn<0.23.0,>=0.22.2->feature_engine) (0.14.1)\n",
      "Requirement already satisfied: patsy>=0.5 in /usr/local/lib/python3.6/dist-packages (from statsmodels<0.12.0,>=0.11.1->feature_engine) (0.5.1)\n",
      "Requirement already satisfied: python-dateutil>=2.6.1 in /usr/local/lib/python3.6/dist-packages (from pandas<1.1.0,>=1.0.3->feature_engine) (2.8.1)\n",
      "Requirement already satisfied: pytz>=2017.2 in /usr/local/lib/python3.6/dist-packages (from pandas<1.1.0,>=1.0.3->feature_engine) (2018.9)\n",
      "Requirement already satisfied: six in /usr/local/lib/python3.6/dist-packages (from patsy>=0.5->statsmodels<0.12.0,>=0.11.1->feature_engine) (1.12.0)\n",
      "Installing collected packages: statsmodels, feature-engine\n",
      "  Found existing installation: statsmodels 0.10.2\n",
      "    Uninstalling statsmodels-0.10.2:\n",
      "      Successfully uninstalled statsmodels-0.10.2\n",
      "Successfully installed feature-engine-0.4.2 statsmodels-0.11.1\n"
     ]
    },
    {
     "data": {
      "application/vnd.colab-display-data+json": {
       "pip_warning": {
        "packages": [
         "statsmodels"
        ]
       }
      }
     },
     "metadata": {
      "tags": []
     },
     "output_type": "display_data"
    }
   ],
   "source": [
    "!pip install feature_engine"
   ]
  },
  {
   "cell_type": "code",
   "execution_count": 0,
   "metadata": {
    "colab": {},
    "colab_type": "code",
    "id": "smF8Gu7ovRBe"
   },
   "outputs": [],
   "source": [
    "# import relevant modules for feature engineering\n",
    "from sklearn.pipeline import Pipeline\n",
    "from feature_engine import missing_data_imputers as mdi\n",
    "from feature_engine.variable_transformers import YeoJohnsonTransformer\n",
    "from sklearn.preprocessing import StandardScaler"
   ]
  },
  {
   "cell_type": "code",
   "execution_count": 0,
   "metadata": {
    "colab": {},
    "colab_type": "code",
    "id": "xkxVukse_36L"
   },
   "outputs": [],
   "source": [
    "#pre-processing for training data\n",
    "\n",
    "preprocess_pipeline = Pipeline([\n",
    "    #missing data imputation\n",
    "    ('imputer_num', mdi.MeanMedianImputer(imputation_method='mean',\n",
    "                                          variables=continuous)),\n",
    "\n",
    "     #transforming predictors                           \n",
    "    ('yjt', YeoJohnsonTransformer(variables = continuous)),\n",
    "    \n",
    "   \n",
    "    # feature Scaling\n",
    "    ('scaler', StandardScaler()),\n",
    "    \n",
    "    \n",
    "])"
   ]
  },
  {
   "cell_type": "code",
   "execution_count": 18,
   "metadata": {
    "colab": {
     "base_uri": "https://localhost:8080/",
     "height": 363
    },
    "colab_type": "code",
    "id": "FXoSEEyXCtmk",
    "outputId": "9498cc74-a523-4a93-afb4-fe4023f401ac"
   },
   "outputs": [
    {
     "data": {
      "text/plain": [
       "Pipeline(memory=None,\n",
       "         steps=[('imputer_num',\n",
       "                 MeanMedianImputer(imputation_method='mean',\n",
       "                                   variables=['V1', 'V2', 'V3', 'V4', 'V5',\n",
       "                                              'V6', 'V7', 'V8', 'V9', 'V10',\n",
       "                                              'V11', 'V12', 'V13', 'V14', 'V15',\n",
       "                                              'V16', 'V17', 'V18', 'V19', 'V20',\n",
       "                                              'V21', 'V22', 'V23', 'V24', 'V25',\n",
       "                                              'V26', 'V27', 'V28', 'V29'])),\n",
       "                ('yjt',\n",
       "                 YeoJohnsonTransformer(variables=['V1', 'V2', 'V3', 'V4', 'V5',\n",
       "                                                  'V6', 'V7', 'V8', 'V9', 'V10',\n",
       "                                                  'V11', 'V12', 'V13', 'V14',\n",
       "                                                  'V15', 'V16', 'V17', 'V18',\n",
       "                                                  'V19', 'V20', 'V21', 'V22',\n",
       "                                                  'V23', 'V24', 'V25', 'V26',\n",
       "                                                  'V27', 'V28', 'V29'])),\n",
       "                ('scaler',\n",
       "                 StandardScaler(copy=True, with_mean=True, with_std=True))],\n",
       "         verbose=False)"
      ]
     },
     "execution_count": 18,
     "metadata": {
      "tags": []
     },
     "output_type": "execute_result"
    }
   ],
   "source": [
    "preprocess_pipeline.fit(X_train, y_train)"
   ]
  },
  {
   "cell_type": "code",
   "execution_count": 0,
   "metadata": {
    "colab": {},
    "colab_type": "code",
    "id": "lZ3mjH8tDHwL"
   },
   "outputs": [],
   "source": [
    "# Apply Transformations for training data\n",
    "X_train=preprocess_pipeline.transform(X_train)\n",
    "X_test=preprocess_pipeline.transform(X_test)"
   ]
  },
  {
   "cell_type": "code",
   "execution_count": 0,
   "metadata": {
    "colab": {},
    "colab_type": "code",
    "id": "JIWfBh3GnUs5"
   },
   "outputs": [],
   "source": [
    "#pre-processing for testing data\n",
    "\n",
    "test_preprocess_pipeline = Pipeline([\n",
    "    #missing data imputation\n",
    "    ('imputer_num', mdi.MeanMedianImputer(imputation_method='mean',\n",
    "                                          variables=test_continuous)),\n",
    "\n",
    "     #transforming predictors                           \n",
    "    ('yjt', YeoJohnsonTransformer(variables = test_continuous)),\n",
    "    \n",
    "   \n",
    "    # feature Scaling\n",
    "    ('scaler', StandardScaler()),\n",
    "    \n",
    "    \n",
    "])"
   ]
  },
  {
   "cell_type": "code",
   "execution_count": 21,
   "metadata": {
    "colab": {
     "base_uri": "https://localhost:8080/",
     "height": 363
    },
    "colab_type": "code",
    "id": "dhJSuczLoMtx",
    "outputId": "40f1a825-d53e-4f18-9351-adfdd705d918"
   },
   "outputs": [
    {
     "data": {
      "text/plain": [
       "Pipeline(memory=None,\n",
       "         steps=[('imputer_num',\n",
       "                 MeanMedianImputer(imputation_method='mean',\n",
       "                                   variables=['V1', 'V2', 'V3', 'V4', 'V5',\n",
       "                                              'V6', 'V7', 'V8', 'V9', 'V10',\n",
       "                                              'V11', 'V12', 'V13', 'V14', 'V15',\n",
       "                                              'V16', 'V17', 'V18', 'V19', 'V20',\n",
       "                                              'V21', 'V22', 'V23', 'V24', 'V25',\n",
       "                                              'V26', 'V27', 'V28', 'V29'])),\n",
       "                ('yjt',\n",
       "                 YeoJohnsonTransformer(variables=['V1', 'V2', 'V3', 'V4', 'V5',\n",
       "                                                  'V6', 'V7', 'V8', 'V9', 'V10',\n",
       "                                                  'V11', 'V12', 'V13', 'V14',\n",
       "                                                  'V15', 'V16', 'V17', 'V18',\n",
       "                                                  'V19', 'V20', 'V21', 'V22',\n",
       "                                                  'V23', 'V24', 'V25', 'V26',\n",
       "                                                  'V27', 'V28', 'V29'])),\n",
       "                ('scaler',\n",
       "                 StandardScaler(copy=True, with_mean=True, with_std=True))],\n",
       "         verbose=False)"
      ]
     },
     "execution_count": 21,
     "metadata": {
      "tags": []
     },
     "output_type": "execute_result"
    }
   ],
   "source": [
    "test_preprocess_pipeline.fit(test_data_subset)"
   ]
  },
  {
   "cell_type": "code",
   "execution_count": 0,
   "metadata": {
    "colab": {},
    "colab_type": "code",
    "id": "NibcsHGrqEBu"
   },
   "outputs": [],
   "source": [
    "# Apply Transformations for testing data\n",
    "test_data_subset = test_preprocess_pipeline.transform(test_data_subset)"
   ]
  },
  {
   "cell_type": "markdown",
   "metadata": {
    "colab_type": "text",
    "id": "zln5Q3eMEV4N"
   },
   "source": [
    "**Basic Algorithms**"
   ]
  },
  {
   "cell_type": "markdown",
   "metadata": {
    "colab_type": "text",
    "id": "gKwsdL6VYTBC"
   },
   "source": [
    "Performance of train and test sets is measured using the F2-score"
   ]
  },
  {
   "cell_type": "markdown",
   "metadata": {
    "colab_type": "text",
    "id": "LV-fL5wzXhrL"
   },
   "source": [
    "Logistic Regression"
   ]
  },
  {
   "cell_type": "code",
   "execution_count": 21,
   "metadata": {
    "colab": {
     "base_uri": "https://localhost:8080/",
     "height": 86
    },
    "colab_type": "code",
    "id": "alMbpBQkEbmA",
    "outputId": "9ff115c1-a400-454f-98f1-1576cfb716b2"
   },
   "outputs": [
    {
     "name": "stdout",
     "output_type": "stream",
     "text": [
      "Best parameters:  {'C': 0.1, 'tol': 0.0001}\n",
      "Best Mean cross-validation score: 0.82\n",
      "Logistic Train Performance:  0.8353365384615387\n",
      "Logistic Test Performance:  0.7971014492753623\n"
     ]
    }
   ],
   "source": [
    "from sklearn.linear_model import LogisticRegression\n",
    "from sklearn.model_selection import GridSearchCV\n",
    "from sklearn.metrics import fbeta_score, make_scorer\n",
    "\n",
    "ftwo_scorer = make_scorer(fbeta_score, beta=2)\n",
    "\n",
    "log_param = {\n",
    "    \n",
    "    'tol':[0.0001, 0.001, 0.01],\n",
    "    'C':[0.01,0.1,0,1.0]\n",
    "}\n",
    "\n",
    "clf = GridSearchCV(LogisticRegression(), log_param, scoring=ftwo_scorer, return_train_score = True)\n",
    "\n",
    "clf.fit(X_train, y_train)\n",
    "\n",
    "y_pred_log= clf.predict(X_test)\n",
    "\n",
    "print('Best parameters: ', clf.best_params_)\n",
    "\n",
    "print(\"Best Mean cross-validation score: {:.2f}\".format(clf.best_score_))\n",
    "\n",
    "# Check data set performance\n",
    "print(\"Logistic Train Performance: \", clf.score(X_train,y_train))\n",
    "print(\"Logistic Test Performance: \", clf.score(X_test,y_test))\n",
    "\n"
   ]
  },
  {
   "cell_type": "markdown",
   "metadata": {
    "colab_type": "text",
    "id": "2hZdZsOCYsOk"
   },
   "source": [
    "Decision Tree"
   ]
  },
  {
   "cell_type": "code",
   "execution_count": 22,
   "metadata": {
    "colab": {
     "base_uri": "https://localhost:8080/",
     "height": 86
    },
    "colab_type": "code",
    "id": "fIwMGetOYzHg",
    "outputId": "f9e1000f-03a5-4360-fb9d-585c86da0c05"
   },
   "outputs": [
    {
     "name": "stdout",
     "output_type": "stream",
     "text": [
      "Decision Tree parameters:  {'max_depth': 2}\n",
      "Best Mean cross-validation score: 0.85\n",
      "Train Performance:  0.8610451306413303\n",
      "Test Performance:  0.8333333333333333\n"
     ]
    }
   ],
   "source": [
    "from sklearn.tree import DecisionTreeClassifier\n",
    "from sklearn.model_selection import GridSearchCV\n",
    "from sklearn.metrics import fbeta_score, make_scorer\n",
    "\n",
    "ftwo_scorer = make_scorer(fbeta_score, beta=2)\n",
    "\n",
    "#define a list of parameters\n",
    "param_dtree = {'max_depth': range(1,6)}\n",
    "\n",
    "#apply grid search\n",
    "grid_dtree = GridSearchCV(DecisionTreeClassifier(), param_dtree, scoring=ftwo_scorer, return_train_score = True)\n",
    "grid_dtree.fit(X_train, y_train)\n",
    "\n",
    "y_pred_tree= grid_dtree.predict(X_test)\n",
    "\n",
    "#find best parameters\n",
    "print('Decision Tree parameters: ', grid_dtree.best_params_)\n",
    "\n",
    "print(\"Best Mean cross-validation score: {:.2f}\".format(grid_dtree.best_score_))\n",
    "\n",
    "# Check test data set performance\n",
    "print(\"Train Performance: \", grid_dtree.score(X_train,y_train))\n",
    "print(\"Test Performance: \", grid_dtree.score(X_test,y_test))\n",
    "\n"
   ]
  },
  {
   "cell_type": "markdown",
   "metadata": {
    "colab_type": "text",
    "id": "7FYVyAuEZ0OX"
   },
   "source": [
    "KNN Classifier"
   ]
  },
  {
   "cell_type": "code",
   "execution_count": 88,
   "metadata": {
    "colab": {
     "base_uri": "https://localhost:8080/",
     "height": 86
    },
    "colab_type": "code",
    "id": "I_4NZpauZ3O5",
    "outputId": "8d8cf885-8d25-4215-b338-5693523d9895"
   },
   "outputs": [
    {
     "name": "stdout",
     "output_type": "stream",
     "text": [
      "KNN parameters:  {'n_neighbors': 5}\n",
      "Best Mean cross-validation score: 0.82\n",
      "KNN Train Performance:  0.8422939068100358\n",
      "KNN Test Performance:  0.782608695652174\n"
     ]
    }
   ],
   "source": [
    "from sklearn.model_selection import GridSearchCV\n",
    "from sklearn.neighbors import KNeighborsClassifier\n",
    "from sklearn.metrics import fbeta_score, make_scorer\n",
    "\n",
    "ftwo_scorer = make_scorer(fbeta_score, beta=2)\n",
    "\n",
    "knn = KNeighborsClassifier()\n",
    "\n",
    "# define a list of parameters\n",
    "param_knn = {'n_neighbors': [5,7,9]}\n",
    "\n",
    "#apply grid search\n",
    "grid_knn = GridSearchCV(knn, param_knn, scoring=ftwo_scorer , return_train_score=True)\n",
    "grid_knn.fit(X_train, y_train)\n",
    "\n",
    "y_pred= grid_knn.predict(X_test)\n",
    "\n",
    "#find best parameters\n",
    "print('KNN parameters: ', grid_knn.best_params_)\n",
    "\n",
    "print(\"Best Mean cross-validation score: {:.2f}\".format(grid_knn.best_score_))\n",
    "\n",
    "# Check test data set performance\n",
    "print(\"KNN Train Performance: \", grid_knn.score(X_train,y_train))\n",
    "print(\"KNN Test Performance: \", grid_knn.score(X_test,y_test))\n"
   ]
  },
  {
   "cell_type": "markdown",
   "metadata": {
    "colab_type": "text",
    "id": "nnriIQXlb2RO"
   },
   "source": [
    "Random Forest"
   ]
  },
  {
   "cell_type": "code",
   "execution_count": 23,
   "metadata": {
    "colab": {
     "base_uri": "https://localhost:8080/",
     "height": 86
    },
    "colab_type": "code",
    "id": "Vha2DhZYb7nW",
    "outputId": "bfb57a66-3521-4515-c661-c8310c4afe54"
   },
   "outputs": [
    {
     "name": "stdout",
     "output_type": "stream",
     "text": [
      "Random Forest Test Performance parameters:  {'max_features': 1.0, 'max_leaf_nodes': 4}\n",
      "Best Mean cross-validation score: 0.86\n",
      "Random Forest Train Performance:  0.8630952380952382\n",
      "Random Forest Test Performance:  0.8189655172413792\n"
     ]
    }
   ],
   "source": [
    "from sklearn.ensemble import RandomForestClassifier\n",
    "from sklearn.model_selection import GridSearchCV \n",
    "from sklearn.metrics import make_scorer\n",
    "\n",
    "ftwo_scorer = make_scorer(fbeta_score, beta=2)\n",
    "\n",
    "rf_parameters= {'max_leaf_nodes':[4,8,16],\n",
    "                'max_features':[0.5,0.7,1.0]}\n",
    "\n",
    "rf = RandomForestClassifier(random_state=0)\n",
    "rfGridSearch= GridSearchCV(rf, rf_parameters, scoring=ftwo_scorer, return_train_score=True)\n",
    "\n",
    "rfGridSearch.fit(X_train, y_train)\n",
    "\n",
    "y_pred_rf= rfGridSearch.predict(X_test)\n",
    "\n",
    "#find best parameters\n",
    "print('Random Forest Test Performance parameters: ', rfGridSearch.best_params_)\n",
    "\n",
    "print(\"Best Mean cross-validation score: {:.2f}\".format(rfGridSearch.best_score_))\n",
    "\n",
    "# Check test data set performance\n",
    "print(\"Random Forest Train Performance: \", rfGridSearch.score(X_train, y_train) )\n",
    "print(\"Random Forest Test Performance: \", rfGridSearch.score(X_test,y_test))"
   ]
  },
  {
   "cell_type": "markdown",
   "metadata": {
    "colab_type": "text",
    "id": "uR1p4dMAkq3W"
   },
   "source": [
    "Extra Trees Classifier"
   ]
  },
  {
   "cell_type": "code",
   "execution_count": 85,
   "metadata": {
    "colab": {
     "base_uri": "https://localhost:8080/",
     "height": 86
    },
    "colab_type": "code",
    "id": "9YhSF-wZk0Ec",
    "outputId": "b8b058fc-ca5d-4e97-b164-0af9e216c726"
   },
   "outputs": [
    {
     "name": "stdout",
     "output_type": "stream",
     "text": [
      "Extra Trees Test Performance parameters:  {'max_depth': 9, 'max_features': 1.0, 'n_estimators': 500}\n",
      "Best Mean cross-validation score: 0.85\n",
      "Extra Trees Train Performance:  0.8900836320191159\n",
      "Extra Trees Test Performance:  0.8333333333333333\n"
     ]
    }
   ],
   "source": [
    "from sklearn.ensemble import ExtraTreesClassifier\n",
    "from sklearn.model_selection import GridSearchCV \n",
    "from sklearn.metrics import make_scorer, fbeta_score\n",
    "\n",
    "ftwo_scorer = make_scorer(fbeta_score, beta=2)\n",
    "\n",
    "EXT_parameters= {'n_estimators':[100,500],\n",
    "                  'max_depth':[6,7,8,9],\n",
    "                 'max_features':[0.5,0.7,1.0]}\n",
    "\n",
    "EXTGridSearch= GridSearchCV( ExtraTreesClassifier(random_state=0), EXT_parameters, scoring=ftwo_scorer, return_train_score=True)\n",
    "\n",
    "EXTGridSearch.fit(X_train, y_train)\n",
    "\n",
    "#predicting class label\n",
    "y_pred_ext= EXTGridSearch.predict(X_test)\n",
    "\n",
    "#find best parameters\n",
    "print('Extra Trees Test Performance parameters: ', EXTGridSearch.best_params_)\n",
    "\n",
    "print(\"Best Mean cross-validation score: {:.2f}\".format(EXTGridSearch.best_score_))\n",
    "\n",
    "# Check test data set performance\n",
    "\n",
    "print(\"Extra Trees Train Performance: \", EXTGridSearch.score(X_train, y_train) )\n",
    "print(\"Extra Trees Test Performance: \", EXTGridSearch.score(X_test,y_test))"
   ]
  },
  {
   "cell_type": "markdown",
   "metadata": {
    "colab_type": "text",
    "id": "Vs_lA6Z0l5Gm"
   },
   "source": [
    "Gradient Boosting"
   ]
  },
  {
   "cell_type": "code",
   "execution_count": 0,
   "metadata": {
    "colab": {
     "base_uri": "https://localhost:8080/",
     "height": 69
    },
    "colab_type": "code",
    "id": "bQo831FLl7E2",
    "outputId": "80601513-6836-43fd-ab78-7854ddfe6040"
   },
   "outputs": [
    {
     "name": "stdout",
     "output_type": "stream",
     "text": [
      "Gradient Boosting Test Performance parameters:  {'learning_rate': 0.1, 'max_depth': 3, 'n_estimators': 500}\n",
      "Gradient Boosting Train Performance:  1.0\n",
      "Gradient Boosting Test Performance:  0.7060518731988474\n"
     ]
    }
   ],
   "source": [
    "from sklearn.ensemble import GradientBoostingClassifier\n",
    "from sklearn.model_selection import GridSearchCV\n",
    "from sklearn.metrics import make_scorer, fbeta_score\n",
    "\n",
    "ftwo_scorer = make_scorer(fbeta_score, beta=2) \n",
    "\n",
    "\n",
    "GB_parameters= {\n",
    "                  'max_depth':[3,4,5],\n",
    "                  'learning_rate':[0.1,1.0],\n",
    "                  'n_estimators':[100,500]\n",
    "                  \n",
    "                }\n",
    "\n",
    "GB_gridSearch= GridSearchCV(GradientBoostingClassifier(min_samples_split=10,random_state=42),GB_parameters, scoring=ftwo_scorer, return_train_score=True)\n",
    "\n",
    "GB_gridSearch.fit(X_train, y_train)\n",
    "\n",
    "y_pred_GB= GB_gridSearch.predict(X_test)\n",
    "\n",
    "#find best parameters\n",
    "print('Gradient Boosting Test Performance parameters: ', GB_gridSearch.best_params_)\n",
    "\n",
    "# Check test data set performance\n",
    "\n",
    "print(\"Gradient Boosting Train Performance: \", GB_gridSearch.score(X_train, y_train) )\n",
    "print(\"Gradient Boosting Test Performance: \", GB_gridSearch.score(X_test,y_test))\n"
   ]
  },
  {
   "cell_type": "markdown",
   "metadata": {
    "colab_type": "text",
    "id": "xrdHd-f4zBfX"
   },
   "source": [
    "XGBoost"
   ]
  },
  {
   "cell_type": "code",
   "execution_count": 47,
   "metadata": {
    "colab": {
     "base_uri": "https://localhost:8080/",
     "height": 69
    },
    "colab_type": "code",
    "id": "nfa5iJKMz6qB",
    "outputId": "4c3037f6-f35c-40fc-9593-5d2a52a1c012"
   },
   "outputs": [
    {
     "name": "stdout",
     "output_type": "stream",
     "text": [
      "Requirement already satisfied: xgboost in /usr/local/lib/python3.6/dist-packages (0.90)\n",
      "Requirement already satisfied: scipy in /usr/local/lib/python3.6/dist-packages (from xgboost) (1.4.1)\n",
      "Requirement already satisfied: numpy in /usr/local/lib/python3.6/dist-packages (from xgboost) (1.18.4)\n"
     ]
    }
   ],
   "source": [
    "!pip install xgboost"
   ]
  },
  {
   "cell_type": "code",
   "execution_count": 48,
   "metadata": {
    "colab": {
     "base_uri": "https://localhost:8080/",
     "height": 69
    },
    "colab_type": "code",
    "id": "XYTHCl1yzHoA",
    "outputId": "f79a808f-1051-4c02-b7e3-81d0aec9936d"
   },
   "outputs": [
    {
     "name": "stdout",
     "output_type": "stream",
     "text": [
      "XGB Test Performance parameters:  {'alpha': 0, 'gamma': 0, 'lambda': 0, 'learning_rate': 1, 'max_depth': 4}\n",
      "XGB Train Performance:  1.0\n",
      "XGB Test Performance:  0.7971014492753623\n"
     ]
    }
   ],
   "source": [
    "import xgboost as xgb\n",
    "from xgboost import XGBClassifier\n",
    "from sklearn.model_selection import GridSearchCV \n",
    "from sklearn.metrics import make_scorer, fbeta_score\n",
    "\n",
    "ftwo_scorer = make_scorer(fbeta_score, beta=2)\n",
    "\n",
    "xgb_parameters= {'learning_rate':[0.1,1,10],\n",
    "                 'max_depth':[3,4,5],\n",
    "                 'gamma':[0,0.1,1.0],\n",
    "                 'alpha':[0,0.1,1.0],\n",
    "                 'lambda':[0,1,10,100]}\n",
    "\n",
    "xgbGridSearch= GridSearchCV( XGBClassifier(random_state=0, n_jobs=1), xgb_parameters, scoring=ftwo_scorer, return_train_score=True)\n",
    "\n",
    "xgbGridSearch.fit(X_train,y_train)\n",
    "\n",
    "#predicting class label\n",
    "y_pred_xgb= xgbGridSearch.predict(X_test)\n",
    "\n",
    "#find best parameters\n",
    "print('XGB Test Performance parameters: ', xgbGridSearch.best_params_)\n",
    "\n",
    "# Check test data set performance\n",
    "print(\"XGB Train Performance: \", xgbGridSearch.score(X_train, y_train) )\n",
    "print(\"XGB Test Performance: \", xgbGridSearch.score(X_test,y_test))"
   ]
  },
  {
   "cell_type": "markdown",
   "metadata": {
    "colab_type": "text",
    "id": "X1JEdYjkJgVm"
   },
   "source": [
    "**Cost Sensitive Algorithms**"
   ]
  },
  {
   "cell_type": "markdown",
   "metadata": {
    "colab_type": "text",
    "id": "r400DqNjJmg6"
   },
   "source": [
    "Logistic Regression"
   ]
  },
  {
   "cell_type": "code",
   "execution_count": 24,
   "metadata": {
    "colab": {
     "base_uri": "https://localhost:8080/",
     "height": 86
    },
    "colab_type": "code",
    "id": "dKjfgguSJrDr",
    "outputId": "aad61119-bf8b-443d-cbc7-7615f4a65285"
   },
   "outputs": [
    {
     "name": "stdout",
     "output_type": "stream",
     "text": [
      "Best parameters:  {'class_weight': {0: 1, 1: 10}}\n",
      "Best Mean cross-validation score: 0.84\n",
      "Logistic Train Performance:  0.8428246013667425\n",
      "Logistic Test Performance:  0.8055555555555556\n"
     ]
    }
   ],
   "source": [
    "from sklearn.linear_model import LogisticRegression\n",
    "from sklearn.model_selection import GridSearchCV\n",
    "from sklearn.metrics import fbeta_score, make_scorer\n",
    "\n",
    "ftwo_scorer = make_scorer(fbeta_score, beta=2)\n",
    "\n",
    "logparam = {\n",
    "    \n",
    "    'class_weight': [{0:100,1:1}, {0:10,1:1}, {0:1,1:1}, {0:1,1:10}, {0:1,1:100}]\n",
    "}\n",
    "\n",
    "logclf = GridSearchCV(LogisticRegression(C=0.1, tol=0.0001), logparam, scoring=ftwo_scorer, return_train_score = True)\n",
    "\n",
    "logclf.fit(X_train, y_train)\n",
    "\n",
    "y_pred_logistic= logclf.predict(X_test)\n",
    "\n",
    "print('Best parameters: ', logclf.best_params_)\n",
    "\n",
    "print(\"Best Mean cross-validation score: {:.2f}\".format(logclf.best_score_))\n",
    "\n",
    "# Check data set performance\n",
    "print(\"Logistic Train Performance: \", logclf.score(X_train,y_train))\n",
    "print(\"Logistic Test Performance: \", logclf.score(X_test,y_test))\n",
    "\n"
   ]
  },
  {
   "cell_type": "markdown",
   "metadata": {
    "colab_type": "text",
    "id": "mbsLSM5HKRJj"
   },
   "source": [
    "Decision Tree Classifier"
   ]
  },
  {
   "cell_type": "code",
   "execution_count": 24,
   "metadata": {
    "colab": {
     "base_uri": "https://localhost:8080/",
     "height": 86
    },
    "colab_type": "code",
    "id": "HWjyIxIpKVPq",
    "outputId": "33f69190-7880-4fdc-e6c0-eb4105f7e56d"
   },
   "outputs": [
    {
     "name": "stdout",
     "output_type": "stream",
     "text": [
      "Decision Tree parameters:  {'class_weight': {0: 1, 1: 10}}\n",
      "Best Mean cross-validation score: 0.86\n",
      "Train Performance:  0.8685446009389671\n",
      "Test Performance:  0.830945558739255\n"
     ]
    }
   ],
   "source": [
    "from sklearn.tree import DecisionTreeClassifier\n",
    "from sklearn.model_selection import GridSearchCV\n",
    "from sklearn.metrics import fbeta_score, make_scorer\n",
    "\n",
    "ftwo_scorer = make_scorer(fbeta_score, beta=2)\n",
    "\n",
    "#define a list of parameters\n",
    "param_tree ={  'class_weight': [{0:100,1:1}, {0:10,1:1}, {0:1,1:1}, {0:1,1:10}, {0:1,1:100}],\n",
    "}\n",
    "\n",
    "#apply grid search\n",
    "gridS_dtree = GridSearchCV(DecisionTreeClassifier(max_depth=2), param_tree, scoring=ftwo_scorer, return_train_score = True)\n",
    "gridS_dtree.fit(X_train, y_train)\n",
    "\n",
    "y_pred_dtree= gridS_dtree.predict(X_test)\n",
    "\n",
    "#find best parameters\n",
    "print('Decision Tree parameters: ', gridS_dtree.best_params_)\n",
    "\n",
    "print(\"Best Mean cross-validation score: {:.2f}\".format(gridS_dtree.best_score_))\n",
    "\n",
    "# Check test data set performance\n",
    "print(\"Train Performance: \", gridS_dtree.score(X_train,y_train))\n",
    "print(\"Test Performance: \", gridS_dtree.score(X_test,y_test))\n",
    "\n"
   ]
  },
  {
   "cell_type": "markdown",
   "metadata": {
    "colab_type": "text",
    "id": "jj_9LxMUKsgg"
   },
   "source": [
    "KNN Classifier"
   ]
  },
  {
   "cell_type": "code",
   "execution_count": 25,
   "metadata": {
    "colab": {
     "base_uri": "https://localhost:8080/",
     "height": 86
    },
    "colab_type": "code",
    "id": "8QqdO1mdK5XL",
    "outputId": "598b2812-5600-4cec-8176-9dba88cdd8b7"
   },
   "outputs": [
    {
     "name": "stdout",
     "output_type": "stream",
     "text": [
      "KNN parameters:  {'n_neighbors': 9}\n",
      "Best Mean cross-validation score: 0.82\n",
      "KNN Train Performance:  1.0\n",
      "KNN Test Performance:  0.7971014492753623\n"
     ]
    }
   ],
   "source": [
    "from sklearn.model_selection import GridSearchCV\n",
    "from sklearn.neighbors import KNeighborsClassifier\n",
    "from sklearn.metrics import fbeta_score, make_scorer\n",
    "\n",
    "ftwo_scorer = make_scorer(fbeta_score, beta=2)\n",
    "\n",
    "# define a list of parameters\n",
    "param_knn = {'n_neighbors': [7,9,11]}\n",
    "\n",
    "#apply grid search\n",
    "knn = GridSearchCV(KNeighborsClassifier(weights='distance'), param_knn, scoring=ftwo_scorer , return_train_score=True)\n",
    "knn.fit(X_train, y_train)\n",
    "\n",
    "y_pred_knn= knn.predict(X_test)\n",
    "\n",
    "#find best parameters\n",
    "print('KNN parameters: ', knn.best_params_)\n",
    "print(\"Best Mean cross-validation score: {:.2f}\".format(knn.best_score_))\n",
    "# Check test set performance\n",
    "print(\"KNN Train Performance: \", knn.score(X_train,y_train))\n",
    "print(\"KNN Test Performance: \", knn.score(X_test,y_test))\n"
   ]
  },
  {
   "cell_type": "markdown",
   "metadata": {
    "colab_type": "text",
    "id": "e0jLSWQqLTmI"
   },
   "source": [
    "Random Forest Classifier"
   ]
  },
  {
   "cell_type": "code",
   "execution_count": 26,
   "metadata": {
    "colab": {
     "base_uri": "https://localhost:8080/",
     "height": 86
    },
    "colab_type": "code",
    "id": "TVQBtRViLi5c",
    "outputId": "82e25797-b4f0-4423-80bb-2549ba44f783"
   },
   "outputs": [
    {
     "name": "stdout",
     "output_type": "stream",
     "text": [
      "Random Forest Test Performance parameters:  {'max_depth': 5, 'min_samples_split': 50}\n",
      "Best Mean cross-validation score: 0.85\n",
      "Random Forest Train Performance:  0.9184845005740527\n",
      "Random Forest Test Performance:  0.8240223463687151\n"
     ]
    }
   ],
   "source": [
    "from sklearn.ensemble import RandomForestClassifier\n",
    "from sklearn.model_selection import GridSearchCV \n",
    "from sklearn.metrics import make_scorer\n",
    "\n",
    "ftwo_scorer = make_scorer(fbeta_score, beta=2)\n",
    "\n",
    "rf_parameters={'max_depth':[2,3,4,5],\n",
    "               'min_samples_split':[50,100,300]}\n",
    "\n",
    "rndf= GridSearchCV(RandomForestClassifier(class_weight='balanced',random_state=0), rf_parameters, scoring=ftwo_scorer, return_train_score=True)\n",
    "\n",
    "rndf.fit(X_train, y_train)\n",
    "\n",
    "y_pred_rndf= rndf.predict(X_test)\n",
    "\n",
    "#find best parameters\n",
    "print('Random Forest Test Performance parameters: ', rndf.best_params_)\n",
    "\n",
    "# Check data set performance\n",
    "print(\"Best Mean cross-validation score: {:.2f}\".format(rndf.best_score_))\n",
    "print(\"Random Forest Train Performance: \", rndf.score(X_train, y_train) )\n",
    "print(\"Random Forest Test Performance: \", rndf.score(X_test,y_test))"
   ]
  },
  {
   "cell_type": "markdown",
   "metadata": {
    "colab_type": "text",
    "id": "m2GfA5m2ODd1"
   },
   "source": [
    "Extra Trees Classifier"
   ]
  },
  {
   "cell_type": "code",
   "execution_count": 27,
   "metadata": {
    "colab": {
     "base_uri": "https://localhost:8080/",
     "height": 86
    },
    "colab_type": "code",
    "id": "5Ji6pmAJOGE4",
    "outputId": "87277573-f6a7-4063-b532-6f68194f9bb2"
   },
   "outputs": [
    {
     "name": "stdout",
     "output_type": "stream",
     "text": [
      "Extra Trees Test Performance parameters:  {'class_weight': {0: 1, 1: 100}, 'min_samples_split': 20}\n",
      "Best Mean cross-validation score: 0.87\n",
      "Extra Trees Train Performance:  0.919674039580908\n",
      "Extra Trees Test Performance:  0.8380681818181818\n"
     ]
    }
   ],
   "source": [
    "from sklearn.ensemble import ExtraTreesClassifier\n",
    "from sklearn.model_selection import GridSearchCV \n",
    "from sklearn.metrics import make_scorer, fbeta_score\n",
    "\n",
    "ftwo_scorer = make_scorer(fbeta_score, beta=2)\n",
    "\n",
    "EXTparameters= {'class_weight': [{0:100,1:1}, {0:10,1:1}, {0:1,1:1}, {0:1,1:10}, {0:1,1:100}],\n",
    "                  'min_samples_split':[20,30,40,50]}\n",
    "\n",
    "EXT= GridSearchCV( ExtraTreesClassifier(max_depth=9,n_estimators=500,random_state=0), EXTparameters, scoring=ftwo_scorer, return_train_score=True)\n",
    "\n",
    "EXT.fit(X_train, y_train)\n",
    "\n",
    "#predicting class label\n",
    "y_pred_EXT= EXT.predict(X_test)\n",
    "\n",
    "#find best parameters\n",
    "print('Extra Trees Test Performance parameters: ', EXT.best_params_)\n",
    "\n",
    "# Check test data set performance\n",
    "print(\"Best Mean cross-validation score: {:.2f}\".format(EXT.best_score_))\n",
    "print(\"Extra Trees Train Performance: \", EXT.score(X_train, y_train) )\n",
    "print(\"Extra Trees Test Performance: \", EXT.score(X_test,y_test))"
   ]
  },
  {
   "cell_type": "markdown",
   "metadata": {
    "colab_type": "text",
    "id": "AjP3S3O_Q-yp"
   },
   "source": [
    "Gradient Boosting with XGBoost"
   ]
  },
  {
   "cell_type": "code",
   "execution_count": 28,
   "metadata": {
    "colab": {
     "base_uri": "https://localhost:8080/",
     "height": 86
    },
    "colab_type": "code",
    "id": "l_g49PYKYI7A",
    "outputId": "90cd13cb-f915-4dd8-e432-58ad0ed0ab35"
   },
   "outputs": [
    {
     "name": "stdout",
     "output_type": "stream",
     "text": [
      "Best parameters: {'scale_pos_weight': 10}\n",
      "Best Mean cross-validation score: 0.85\n",
      "Extra Trees Train Performance:  0.9907834101382487\n",
      "Extra Trees Test Performance:  0.8285714285714285\n"
     ]
    }
   ],
   "source": [
    "from xgboost import XGBClassifier\n",
    "from sklearn.model_selection import GridSearchCV\n",
    "from sklearn.metrics import make_scorer, fbeta_score\n",
    "\n",
    "ftwo_scorer= make_scorer(fbeta_score, beta=2)\n",
    "\n",
    "xgboost = XGBClassifier(early_stopping_rounds=5, learning_rate=0.1)\n",
    "param_grid = {\n",
    "    \n",
    "    'scale_pos_weight': [1, 10, 25, 50, 75, 99, 100, 1000],\n",
    "}\n",
    "\n",
    "#apply grid search\n",
    "grid_xgboost= GridSearchCV(xgboost, param_grid, cv=5, n_jobs=-1, scoring=ftwo_scorer)\n",
    "grid_xgboost.fit(X_train, y_train)\n",
    "\n",
    "print(\"Best parameters: {}\".format(grid_xgboost.best_params_))\n",
    "print(\"Best Mean cross-validation score: {:.2f}\".format(grid_xgboost.best_score_))\n",
    "print(\"Extra Trees Train Performance: \", grid_xgboost.score(X_train, y_train) )\n",
    "print(\"Extra Trees Test Performance: \", grid_xgboost.score(X_test,y_test))"
   ]
  },
  {
   "cell_type": "markdown",
   "metadata": {
    "colab_type": "text",
    "id": "ah6FDUyqYJT6"
   },
   "source": [
    "Bagging Decision Tree with undersampling"
   ]
  },
  {
   "cell_type": "code",
   "execution_count": 44,
   "metadata": {
    "colab": {
     "base_uri": "https://localhost:8080/",
     "height": 121
    },
    "colab_type": "code",
    "id": "Vgf3t9HJYQnN",
    "outputId": "bbeb3cff-781b-476b-9d04-04ab93a31c20"
   },
   "outputs": [
    {
     "name": "stdout",
     "output_type": "stream",
     "text": [
      "Requirement already satisfied: imblearn in /usr/local/lib/python3.6/dist-packages (0.0)\n",
      "Requirement already satisfied: imbalanced-learn in /usr/local/lib/python3.6/dist-packages (from imblearn) (0.4.3)\n",
      "Requirement already satisfied: scipy>=0.13.3 in /usr/local/lib/python3.6/dist-packages (from imbalanced-learn->imblearn) (1.4.1)\n",
      "Requirement already satisfied: scikit-learn>=0.20 in /usr/local/lib/python3.6/dist-packages (from imbalanced-learn->imblearn) (0.22.2.post1)\n",
      "Requirement already satisfied: numpy>=1.8.2 in /usr/local/lib/python3.6/dist-packages (from imbalanced-learn->imblearn) (1.18.4)\n",
      "Requirement already satisfied: joblib>=0.11 in /usr/local/lib/python3.6/dist-packages (from scikit-learn>=0.20->imbalanced-learn->imblearn) (0.14.1)\n"
     ]
    }
   ],
   "source": [
    "!pip install imblearn"
   ]
  },
  {
   "cell_type": "code",
   "execution_count": 24,
   "metadata": {
    "colab": {
     "base_uri": "https://localhost:8080/",
     "height": 54
    },
    "colab_type": "code",
    "id": "KCOFm7gS1E1V",
    "outputId": "6f67e2fb-9018-4459-e186-0be3a8ee9aef"
   },
   "outputs": [
    {
     "data": {
      "text/plain": [
       "dict_keys(['explained_variance', 'r2', 'max_error', 'neg_median_absolute_error', 'neg_mean_absolute_error', 'neg_mean_squared_error', 'neg_mean_squared_log_error', 'neg_root_mean_squared_error', 'neg_mean_poisson_deviance', 'neg_mean_gamma_deviance', 'accuracy', 'roc_auc', 'roc_auc_ovr', 'roc_auc_ovo', 'roc_auc_ovr_weighted', 'roc_auc_ovo_weighted', 'balanced_accuracy', 'average_precision', 'neg_log_loss', 'neg_brier_score', 'adjusted_rand_score', 'homogeneity_score', 'completeness_score', 'v_measure_score', 'mutual_info_score', 'adjusted_mutual_info_score', 'normalized_mutual_info_score', 'fowlkes_mallows_score', 'precision', 'precision_macro', 'precision_micro', 'precision_samples', 'precision_weighted', 'recall', 'recall_macro', 'recall_micro', 'recall_samples', 'recall_weighted', 'f1', 'f1_macro', 'f1_micro', 'f1_samples', 'f1_weighted', 'jaccard', 'jaccard_macro', 'jaccard_micro', 'jaccard_samples', 'jaccard_weighted'])"
      ]
     },
     "execution_count": 24,
     "metadata": {
      "tags": []
     },
     "output_type": "execute_result"
    }
   ],
   "source": [
    "import sklearn\n",
    "sklearn.metrics.SCORERS.keys()"
   ]
  },
  {
   "cell_type": "code",
   "execution_count": 45,
   "metadata": {
    "colab": {
     "base_uri": "https://localhost:8080/",
     "height": 69
    },
    "colab_type": "code",
    "id": "hLO0y8g6YXAN",
    "outputId": "095f9d88-8154-497b-f5e3-11b1dd85d3ea"
   },
   "outputs": [
    {
     "name": "stdout",
     "output_type": "stream",
     "text": [
      "Mean cross validation score: 0.8359477022615571\n",
      "Test performance: 0.9975851891601825\n",
      "F2-score:  0.8092485549132947\n"
     ]
    }
   ],
   "source": [
    "import statistics\n",
    "from imblearn.ensemble import BalancedBaggingClassifier\n",
    "from sklearn.tree import DecisionTreeClassifier\n",
    "from sklearn.model_selection import RepeatedStratifiedKFold\n",
    "from sklearn.model_selection import cross_val_score\n",
    "from sklearn.metrics import accuracy_score\n",
    "from sklearn.metrics import make_scorer, fbeta_score\n",
    "\n",
    "ftwo_scorer = make_scorer(fbeta_score, beta=2)\n",
    "\n",
    "model= BalancedBaggingClassifier(base_estimator=DecisionTreeClassifier(max_depth=2),sampling_strategy='not majority')\n",
    "\n",
    "# define evaluation procedure\n",
    "cv = RepeatedStratifiedKFold(n_splits=10, n_repeats=3, random_state=1)\n",
    "\n",
    "# evaluate model\n",
    "scores = cross_val_score(model, X_train, y_train, scoring=ftwo_scorer, cv=cv, n_jobs=-1)\n",
    "final_score= statistics.mean(scores)\n",
    "\n",
    "model.fit(X_train, y_train)\n",
    "\n",
    "y_pred_model= model.predict(X_test)\n",
    "\n",
    "print('Mean cross validation score:',final_score)\n",
    "print('Test performance:', accuracy_score(y_test, y_pred_model))\n",
    "print('F2-score: ', fbeta_score(y_test,y_pred_model,beta=2))\n"
   ]
  },
  {
   "cell_type": "markdown",
   "metadata": {
    "colab_type": "text",
    "id": "UVGjiGyYe3Qt"
   },
   "source": [
    "**Data Sampling Algorithms**"
   ]
  },
  {
   "cell_type": "markdown",
   "metadata": {
    "colab_type": "text",
    "id": "ZW52K4tpe6p0"
   },
   "source": [
    "Logistic Regression"
   ]
  },
  {
   "cell_type": "code",
   "execution_count": 58,
   "metadata": {
    "colab": {
     "base_uri": "https://localhost:8080/",
     "height": 69
    },
    "colab_type": "code",
    "id": "eDslF92QcXDc",
    "outputId": "2215b809-1d4f-42af-a818-d29ee983d74d"
   },
   "outputs": [
    {
     "name": "stdout",
     "output_type": "stream",
     "text": [
      "Best parameters: {'smote__k_neighbors': 1}\n",
      "Best Mean cross-validation score: 0.59\n",
      "F2-score:  0.5809523809523809\n"
     ]
    }
   ],
   "source": [
    "from imblearn.over_sampling import SMOTE\n",
    "from imblearn.pipeline import Pipeline\n",
    "from sklearn.metrics import fbeta_score, make_scorer\n",
    "\n",
    "ftwo_scorer= make_scorer(fbeta_score, beta=2)\n",
    "\n",
    "pipe_log = Pipeline([('smote',SMOTE()),('log_reg',LogisticRegression(C=0.1, tol=0.0001))])\n",
    "parameters_pipe_log = {'smote__k_neighbors': [1,2,3,4,5]}\n",
    "\n",
    "DS_log= GridSearchCV(pipe_log,parameters_pipe_log, cv=10, n_jobs=2, scoring=ftwo_scorer)\n",
    "DS_log.fit(X_train, y_train)\n",
    "\n",
    "y_log= DS_log.predict(X_test)\n",
    "\n",
    "print(\"Best parameters: {}\".format(DS_log.best_params_))\n",
    "print(\"Best Mean cross-validation score: {:.2f}\".format(DS_log.best_score_))\n",
    "print(\"F2-score: \", fbeta_score(y_test, y_log, beta=2))"
   ]
  },
  {
   "cell_type": "markdown",
   "metadata": {
    "colab_type": "text",
    "id": "ZRQqVtMYPSHM"
   },
   "source": [
    "Decision Tree Classifier"
   ]
  },
  {
   "cell_type": "code",
   "execution_count": 57,
   "metadata": {
    "colab": {
     "base_uri": "https://localhost:8080/",
     "height": 69
    },
    "colab_type": "code",
    "id": "MnVn2PNTPSfu",
    "outputId": "bbfad73f-f1f1-4ccc-f664-8cd37ac04655"
   },
   "outputs": [
    {
     "name": "stdout",
     "output_type": "stream",
     "text": [
      "Best parameters: {'smote__k_neighbors': 1}\n",
      "Best Mean cross-validation score: 0.62\n",
      "F2-score:  0.5621301775147929\n"
     ]
    }
   ],
   "source": [
    "from imblearn.over_sampling import SMOTE\n",
    "from imblearn.pipeline import Pipeline\n",
    "from sklearn.metrics import fbeta_score, make_scorer\n",
    "\n",
    "ftwo_scorer= make_scorer(fbeta_score, beta=2)\n",
    "\n",
    "#decisiontreee\n",
    "pipe_dtree = Pipeline([('smote',SMOTE()),('dtree',DecisionTreeClassifier(max_depth=2))])\n",
    "parameters_dtree = {'smote__k_neighbors': [1,2,3,4,5]}\n",
    "\n",
    "DSgrid_dtree= GridSearchCV(pipe_dtree,parameters_dtree, cv=10, n_jobs=2, scoring=ftwo_scorer)\n",
    "DSgrid_dtree.fit(X_train, y_train)\n",
    "\n",
    "y_dtree = DSgrid_dtree.predict(X_test)\n",
    "\n",
    "print(\"Best parameters: {}\".format(DSgrid_dtree.best_params_))\n",
    "print(\"Best Mean cross-validation score: {:.2f}\".format(DSgrid_dtree.best_score_))\n",
    "print(\"F2-score: \", fbeta_score(y_test, y_dtree, beta=2))"
   ]
  },
  {
   "cell_type": "markdown",
   "metadata": {
    "colab_type": "text",
    "id": "UFksDdbIdamI"
   },
   "source": [
    "KNN Classifier"
   ]
  },
  {
   "cell_type": "code",
   "execution_count": 56,
   "metadata": {
    "colab": {
     "base_uri": "https://localhost:8080/",
     "height": 69
    },
    "colab_type": "code",
    "id": "k3RZz2GYdcmL",
    "outputId": "fc9a8c94-a947-4305-ed91-853c43e8b6ba"
   },
   "outputs": [
    {
     "name": "stdout",
     "output_type": "stream",
     "text": [
      "Best parameters: {'smote__k_neighbors': 1}\n",
      "Best Mean cross-validation score: 0.78\n",
      "F2-score:  0.7475490196078431\n"
     ]
    }
   ],
   "source": [
    "from sklearn.neighbors import KNeighborsClassifier\n",
    "from imblearn.over_sampling import SMOTE\n",
    "from imblearn.pipeline import Pipeline\n",
    "from sklearn.metrics import fbeta_score, make_scorer\n",
    "\n",
    "ftwo_scorer= make_scorer(fbeta_score, beta=2)\n",
    "\n",
    "pipe_knn = Pipeline([('smote',SMOTE()),('knn',KNeighborsClassifier(n_neighbors=9))])\n",
    "parameters_knn = {'smote__k_neighbors': [1,2,3,4,5]}\n",
    "\n",
    "DSgrid_knn= GridSearchCV(pipe_knn,parameters_knn, cv=10, n_jobs=2, scoring=ftwo_scorer)\n",
    "DSgrid_knn.fit(X_train, y_train)\n",
    "\n",
    "y_knn= DSgrid_knn.predict(X_test)\n",
    "\n",
    "print(\"Best parameters: {}\".format(DSgrid_knn.best_params_))\n",
    "print(\"Best Mean cross-validation score: {:.2f}\".format(DSgrid_knn.best_score_))\n",
    "print(\"F2-score: \", fbeta_score(y_test, y_knn, beta=2))"
   ]
  },
  {
   "cell_type": "markdown",
   "metadata": {
    "colab_type": "text",
    "id": "adjOcgicxTHu"
   },
   "source": [
    "Random Forest Classifier"
   ]
  },
  {
   "cell_type": "code",
   "execution_count": 59,
   "metadata": {
    "colab": {
     "base_uri": "https://localhost:8080/",
     "height": 69
    },
    "colab_type": "code",
    "id": "FoQtZyLNxVyv",
    "outputId": "39d9a019-dbd8-4959-d646-6acd52eb117e"
   },
   "outputs": [
    {
     "name": "stdout",
     "output_type": "stream",
     "text": [
      "Best parameters: {'smote__k_neighbors': 1}\n",
      "Best Mean cross-validation score: 0.80\n",
      "F2-score:  0.7230392156862744\n"
     ]
    }
   ],
   "source": [
    "from sklearn.ensemble import RandomForestClassifier\n",
    "from imblearn.over_sampling import SMOTE\n",
    "from imblearn.pipeline import Pipeline\n",
    "from sklearn.metrics import fbeta_score, make_scorer\n",
    "\n",
    "ftwo_scorer= make_scorer(fbeta_score, beta=2)\n",
    "\n",
    "pipe_rf = Pipeline([('smote',SMOTE()),('rf',RandomForestClassifier(max_leaf_nodes=4))])\n",
    "parameters_rf = {'smote__k_neighbors': [1,2,3,4,5]}\n",
    "\n",
    "DSgrid_rf= GridSearchCV(pipe_rf,parameters_rf, cv=10, n_jobs=2, scoring=ftwo_scorer)\n",
    "DSgrid_rf.fit(X_train, y_train)\n",
    "\n",
    "y_rf= DSgrid_rf.predict(X_test)\n",
    "\n",
    "print(\"Best parameters: {}\".format(DSgrid_rf.best_params_))\n",
    "print(\"Best Mean cross-validation score: {:.2f}\".format(DSgrid_rf.best_score_))\n",
    "print(\"F2-score: \", fbeta_score(y_test, y_rf, beta=2))"
   ]
  },
  {
   "cell_type": "markdown",
   "metadata": {
    "colab_type": "text",
    "id": "eg1dhXSXJ3Uj"
   },
   "source": [
    "XGBoost"
   ]
  },
  {
   "cell_type": "code",
   "execution_count": 42,
   "metadata": {
    "colab": {
     "base_uri": "https://localhost:8080/",
     "height": 69
    },
    "colab_type": "code",
    "id": "Ak6Vm0n9J5ai",
    "outputId": "c2879e72-7285-40b3-aafe-777509595abb"
   },
   "outputs": [
    {
     "name": "stdout",
     "output_type": "stream",
     "text": [
      "Best parameters: {'smote__k_neighbors': 1}\n",
      "Best Mean cross-validation score: 0.84\n",
      "F2-score:  0.8051948051948052\n"
     ]
    }
   ],
   "source": [
    "import xgboost as xgb\n",
    "from xgboost import XGBClassifier\n",
    "from sklearn.model_selection import GridSearchCV \n",
    "from imblearn.over_sampling import SMOTE\n",
    "from imblearn.pipeline import Pipeline\n",
    "from sklearn.metrics import fbeta_score, make_scorer\n",
    "\n",
    "ftwo_scorer= make_scorer(fbeta_score, beta=2)\n",
    "\n",
    "pipe_xgb = Pipeline([('smote',SMOTE()),('xgb',XGBClassifier())])\n",
    "parameters_xgb = {'smote__k_neighbors': [1,2,3,4,5]}\n",
    "\n",
    "DSgrid_xgb= GridSearchCV(pipe_xgb,parameters_xgb, cv=10, n_jobs=2, scoring=ftwo_scorer)\n",
    "DSgrid_xgb.fit(X_train, y_train)\n",
    "\n",
    "y_xgb= DSgrid_xgb.predict(X_test)\n",
    "\n",
    "print(\"Best parameters: {}\".format(DSgrid_xgb.best_params_))\n",
    "print(\"Best Mean cross-validation score: {:.2f}\".format(DSgrid_xgb.best_score_))\n",
    "print(\"F2-score: \", fbeta_score(y_test, y_xgb, beta=2))"
   ]
  },
  {
   "cell_type": "markdown",
   "metadata": {
    "colab_type": "text",
    "id": "upvmKTat0PqY"
   },
   "source": [
    "Easy Ensemble Classifier"
   ]
  },
  {
   "cell_type": "code",
   "execution_count": 69,
   "metadata": {
    "colab": {
     "base_uri": "https://localhost:8080/",
     "height": 69
    },
    "colab_type": "code",
    "id": "3X73kWmv0SfB",
    "outputId": "d9a920be-a2c9-4cc9-ad75-268f2df3705a"
   },
   "outputs": [
    {
     "name": "stdout",
     "output_type": "stream",
     "text": [
      "Best parameters: {'n_estimators': 1000}\n",
      "Best Mean cross-validation score: 0.59\n",
      "F2-score:  0.61787072243346\n"
     ]
    }
   ],
   "source": [
    "from imblearn.ensemble import EasyEnsembleClassifier\n",
    "from sklearn.model_selection import GridSearchCV\n",
    "from sklearn.metrics import fbeta_score, make_scorer\n",
    "\n",
    "ftwo_scorer= make_scorer(fbeta_score, beta=2)\n",
    "\n",
    "parameters_E ={\n",
    "    \n",
    "    'n_estimators':[100,500,1000]\n",
    "}\n",
    "\n",
    "EasyE= GridSearchCV(EasyEnsembleClassifier(sampling_strategy='all'),parameters_E, cv=5, n_jobs=-1, scoring=ftwo_scorer)\n",
    "EasyE.fit(X_train, y_train)\n",
    "\n",
    "y_EasyE= EasyE.predict(X_test)\n",
    "\n",
    "print(\"Best parameters: {}\".format(EasyE.best_params_))\n",
    "print(\"Best Mean cross-validation score: {:.2f}\".format(EasyE.best_score_))\n",
    "print(\"F2-score: \", fbeta_score(y_test, y_EasyE, beta=2))\n"
   ]
  },
  {
   "cell_type": "markdown",
   "metadata": {
    "colab_type": "text",
    "id": "9GXwPDuF_Sta"
   },
   "source": [
    "MLP Classifier"
   ]
  },
  {
   "cell_type": "code",
   "execution_count": 49,
   "metadata": {
    "colab": {
     "base_uri": "https://localhost:8080/",
     "height": 103
    },
    "colab_type": "code",
    "id": "O2RCpzxk6LlI",
    "outputId": "f32db1d5-77b3-473b-c029-2e820c8667b7"
   },
   "outputs": [
    {
     "name": "stdout",
     "output_type": "stream",
     "text": [
      "Best parameters: {'alpha': 0.1, 'hidden_layer_sizes': 6, 'max_iter': 500}\n",
      "Best Mean cross-validation score: 0.85\n",
      "Training score:  0.844311377245509\n",
      "Testing score:  0.8069164265129682\n",
      "F2-score:  0.8069164265129682\n"
     ]
    }
   ],
   "source": [
    "from sklearn.neural_network import MLPClassifier\n",
    "from sklearn.model_selection import GridSearchCV\n",
    "from sklearn.metrics import fbeta_score, make_scorer\n",
    "\n",
    "ftwo_scorer= make_scorer(fbeta_score, beta=2)\n",
    "\n",
    "parameters_MLP ={\n",
    "    \n",
    "    'max_iter':[100, 250, 500],\n",
    "    'alpha':[0.0001,0.001,0.01,0.1],\n",
    "    'hidden_layer_sizes':np.arange(5,13)\n",
    "}\n",
    "\n",
    "MLP= GridSearchCV(MLPClassifier(),parameters_MLP, cv=10, n_jobs=-1, scoring=ftwo_scorer)\n",
    "MLP.fit(X_train, y_train)\n",
    "\n",
    "y_MLP= MLP.predict(X_test)\n",
    "\n",
    "print(\"Best parameters: {}\".format(MLP.best_params_))\n",
    "print(\"Best Mean cross-validation score: {:.2f}\".format(MLP.best_score_))\n",
    "print(\"Training score: \", MLP.score(X_train, y_train))\n",
    "print(\"Testing score: \", MLP.score(X_test, y_test))\n",
    "print(\"F2-score: \", fbeta_score(y_test, y_MLP, beta=2))"
   ]
  },
  {
   "cell_type": "markdown",
   "metadata": {
    "colab_type": "text",
    "id": "qTAoCYda7LIm"
   },
   "source": [
    "Voting Classifier based on top 5 models ranked by best mean cross validation score, calculated using F2 score-\n",
    "\n",
    "1.  Cost Sensitive Extra Trees Classifier (0.87)\n",
    "2.  Cost Sensitive Random Forest Classifier (0.86)\n",
    "3.  Cost Sensitive Decision Tree Classifier (0.86)\n",
    "4.  Cost Sensitive XGBoost (0.85)\n",
    "5.  Decision Tree Classifier(0.85)"
   ]
  },
  {
   "cell_type": "code",
   "execution_count": 38,
   "metadata": {
    "colab": {
     "base_uri": "https://localhost:8080/",
     "height": 329
    },
    "colab_type": "code",
    "id": "dOQZOX9id-L2",
    "outputId": "d1a1454b-f2db-4a9c-86e7-961752ae34a7"
   },
   "outputs": [
    {
     "name": "stdout",
     "output_type": "stream",
     "text": [
      "GridSearchCV\n",
      "0.8285714285714285\n",
      "\n",
      "GridSearchCV\n",
      "0.8380681818181818\n",
      "\n",
      "GridSearchCV\n",
      "0.830945558739255\n",
      "\n",
      "GridSearchCV\n",
      "0.8240223463687151\n",
      "\n",
      "GridSearchCV\n",
      "0.8189655172413792\n",
      "\n",
      "VotingClassifier\n",
      "0.830945558739255\n",
      "\n"
     ]
    }
   ],
   "source": [
    "from sklearn.ensemble import VotingClassifier\n",
    "\n",
    "voting_clf = VotingClassifier(estimators=[('CS XG Boost', grid_xgboost), \n",
    "                                          ('CS Extra Trees', EXT), \n",
    "                                          ('CS Decision Tree', gridS_dtree),\n",
    "                                          ('CS Random Forest',rndf),\n",
    "                                          ('Random Forest',rfGridSearch )], voting='hard')\n",
    "voting_clf.fit(X_train, y_train)\n",
    "\n",
    "from sklearn.metrics import fbeta_score\n",
    "for clf in (grid_xgboost, EXT, gridS_dtree, rndf, rfGridSearch,voting_clf):\n",
    "    clf.fit(X_train, y_train)\n",
    "    y_prediction = clf.predict(X_test)\n",
    "    print(clf.__class__.__name__)\n",
    "    print(fbeta_score(y_test, y_prediction,beta=2))\n",
    "    print()"
   ]
  },
  {
   "cell_type": "code",
   "execution_count": 35,
   "metadata": {
    "colab": {
     "base_uri": "https://localhost:8080/",
     "height": 329
    },
    "colab_type": "code",
    "id": "t7Shfp777WS3",
    "outputId": "33eeb6c8-c7ee-4c08-bf1f-a72ee1a2afa6"
   },
   "outputs": [
    {
     "name": "stdout",
     "output_type": "stream",
     "text": [
      "GridSearchCV\n",
      "0.8285714285714285\n",
      "\n",
      "GridSearchCV\n",
      "0.8380681818181818\n",
      "\n",
      "GridSearchCV\n",
      "0.830945558739255\n",
      "\n",
      "GridSearchCV\n",
      "0.8240223463687151\n",
      "\n",
      "GridSearchCV\n",
      "0.8189655172413792\n",
      "\n",
      "VotingClassifier\n",
      "0.830945558739255\n",
      "\n"
     ]
    }
   ],
   "source": [
    "from sklearn.ensemble import VotingClassifier\n",
    "\n",
    "\n",
    "voting_clf_soft = VotingClassifier(estimators=[('CS XG Boost', grid_xgboost), \n",
    "                                          ('CS Extra Trees', EXT), \n",
    "                                          ('CS Decision Tree', gridS_dtree),\n",
    "                                          ('CS Random Forest',rndf),\n",
    "                                          ('Random Forest',rfGridSearch )], voting='soft')\n",
    "voting_clf_soft.fit(X_train, y_train)\n",
    "\n",
    "from sklearn.metrics import fbeta_score\n",
    "for clf in (grid_xgboost, EXT, gridS_dtree, rndf, rfGridSearch,voting_clf_soft):\n",
    "    clf.fit(X_train, y_train)\n",
    "    y_prediction = clf.predict(X_test)\n",
    "    print(clf.__class__.__name__)\n",
    "    print(fbeta_score(y_test, y_prediction,beta=2))\n",
    "    print()"
   ]
  },
  {
   "cell_type": "markdown",
   "metadata": {
    "colab_type": "text",
    "id": "_nU31hM0nmW6"
   },
   "source": [
    "Stacking Classifier based on top 5 models ranked by best mean cross validation score, calculated using F2 score-\n",
    "\n",
    "1. Cost Sensitive Extra Trees Classifier (0.87)\n",
    "\n",
    "2. Cost Sensitive Random Forest Classifier (0.86)\n",
    "\n",
    "3. Cost Sensitive Decision Tree Classifier (0.86)\n",
    "\n",
    "4. Cost Sensitive XGBoost (0.85)\n",
    "\n",
    "5. Decision Tree Classifier(0.85)"
   ]
  },
  {
   "cell_type": "code",
   "execution_count": 33,
   "metadata": {
    "colab": {
     "base_uri": "https://localhost:8080/",
     "height": 329
    },
    "colab_type": "code",
    "id": "ThMcrPcJnFsF",
    "outputId": "0b884516-f01a-4f46-9fc4-7f91cb927eb7"
   },
   "outputs": [
    {
     "name": "stdout",
     "output_type": "stream",
     "text": [
      "GridSearchCV\n",
      "0.8285714285714285\n",
      "\n",
      "GridSearchCV\n",
      "0.8380681818181818\n",
      "\n",
      "GridSearchCV\n",
      "0.830945558739255\n",
      "\n",
      "GridSearchCV\n",
      "0.8240223463687151\n",
      "\n",
      "GridSearchCV\n",
      "0.8189655172413792\n",
      "\n",
      "StackingClassifier\n",
      "0.8333333333333333\n",
      "\n"
     ]
    }
   ],
   "source": [
    "from sklearn.ensemble import StackingClassifier\n",
    "\n",
    "stacking_clf = StackingClassifier(estimators=[('CS XG Boost', grid_xgboost), \n",
    "                                          ('CS Extra Trees', EXT), \n",
    "                                          ('CS Decision Tree', gridS_dtree),\n",
    "                                          ('CS Random Forest',rndf),\n",
    "                                          ('Random Forest',rfGridSearch )])\n",
    "stacking_clf.fit(X_train, y_train)\n",
    "\n",
    "from sklearn.metrics import fbeta_score\n",
    "for clf in (grid_xgboost, EXT, gridS_dtree, rndf, rfGridSearch,stacking_clf):\n",
    "    clf.fit(X_train, y_train)\n",
    "    y_prediction = clf.predict(X_test)\n",
    "    print(clf.__class__.__name__)\n",
    "    print(fbeta_score(y_test, y_prediction,beta=2))\n",
    "    print()"
   ]
  },
  {
   "cell_type": "markdown",
   "metadata": {
    "colab_type": "text",
    "id": "3bkClnyupR6S"
   },
   "source": [
    "Voting Classifier"
   ]
  },
  {
   "cell_type": "code",
   "execution_count": 69,
   "metadata": {
    "colab": {
     "base_uri": "https://localhost:8080/",
     "height": 329
    },
    "colab_type": "code",
    "id": "TOdAWuHeU1cx",
    "outputId": "fe1550a3-bd06-4de8-c0fd-924276af40b7"
   },
   "outputs": [
    {
     "name": "stdout",
     "output_type": "stream",
     "text": [
      "GridSearchCV\n",
      "0.800524934383202\n",
      "\n",
      "GridSearchCV\n",
      "0.8380681818181818\n",
      "\n",
      "BalancedBaggingClassifier\n",
      "0.8189655172413792\n",
      "\n",
      "GridSearchCV\n",
      "0.7803468208092487\n",
      "\n",
      "GridSearchCV\n",
      "0.7971014492753623\n",
      "\n",
      "VotingClassifier\n",
      "0.8428571428571427\n",
      "\n"
     ]
    }
   ],
   "source": [
    "from sklearn.ensemble import VotingClassifier\n",
    "\n",
    "voting_clf2 = VotingClassifier(estimators=[('DS XG Boost', DSgrid_xgb), \n",
    "                                          ('CS Extra Trees', EXT), \n",
    "                                          ('Bagging Decision Tree US', model),\n",
    "                                          ('MLP NN',MLP),\n",
    "                                          ('Logistic',clf)], voting='hard')\n",
    "voting_clf2.fit(X_train, y_train)\n",
    "\n",
    "from sklearn.metrics import fbeta_score\n",
    "for clf in (DSgrid_xgb, EXT, model, MLP, clf ,voting_clf):\n",
    "    clf.fit(X_train, y_train)\n",
    "    y_prediction = clf.predict(X_test)\n",
    "    print(clf.__class__.__name__)\n",
    "    print(fbeta_score(y_test, y_prediction,beta=2))\n",
    "    print()"
   ]
  },
  {
   "cell_type": "markdown",
   "metadata": {
    "colab_type": "text",
    "id": "EnvohfeSPr6c"
   },
   "source": [
    "Implemention of a few out of syllabus topics"
   ]
  },
  {
   "cell_type": "markdown",
   "metadata": {
    "colab_type": "text",
    "id": "ihc4SuI5NLgE"
   },
   "source": [
    "Randomized Search CV"
   ]
  },
  {
   "cell_type": "code",
   "execution_count": 39,
   "metadata": {
    "colab": {
     "base_uri": "https://localhost:8080/",
     "height": 69
    },
    "colab_type": "code",
    "id": "sRYBtFUW-Z2T",
    "outputId": "1c22291f-8351-4e54-e3e0-f8dfe313417a"
   },
   "outputs": [
    {
     "name": "stdout",
     "output_type": "stream",
     "text": [
      "Best parameters: {'n_estimators': 100, 'min_samples_split': 20, 'max_depth': 5}\n",
      "Best Mean cross-validation score: 0.83\n",
      "F2-score:  0.8213256484149856\n"
     ]
    }
   ],
   "source": [
    "from sklearn.model_selection import RandomizedSearchCV\n",
    "from sklearn.ensemble import RandomForestClassifier\n",
    "from sklearn.metrics import fbeta_score, make_scorer\n",
    "\n",
    "ftwo_scorer= make_scorer(fbeta_score, beta=2)\n",
    "\n",
    "parameters= {'n_estimators':[100,500],\n",
    "            'max_depth':[2,3,4,5],\n",
    "            'min_samples_split':[20,30,40,50]}\n",
    "\n",
    "random_clf=RandomizedSearchCV(estimator=RandomForestClassifier(random_state=0), param_distributions= parameters, cv=5, scoring=ftwo_scorer)\n",
    "\n",
    "random_clf.fit(X_train,y_train)\n",
    "\n",
    "y_pred_random= random_clf.predict(X_test)\n",
    "\n",
    "print(\"Best parameters: {}\".format(random_clf.best_params_))\n",
    "print(\"Best Mean cross-validation score: {:.2f}\".format(random_clf.best_score_))\n",
    "print(\"F2-score: \", fbeta_score(y_test, y_pred_random, beta=2))"
   ]
  },
  {
   "cell_type": "markdown",
   "metadata": {
    "colab_type": "text",
    "id": "gwEjnIwDur7z"
   },
   "source": [
    "Gaussian Naive Bayes Classifier"
   ]
  },
  {
   "cell_type": "code",
   "execution_count": 36,
   "metadata": {
    "colab": {
     "base_uri": "https://localhost:8080/",
     "height": 51
    },
    "colab_type": "code",
    "id": "_uIOg25S25v0",
    "outputId": "662055ef-67d2-4141-a52c-52d41bd42171"
   },
   "outputs": [
    {
     "name": "stdout",
     "output_type": "stream",
     "text": [
      "Test accuracy:  0.980547357123692\n",
      "F2-score:  0.6079664570230608\n"
     ]
    }
   ],
   "source": [
    "from sklearn.naive_bayes import GaussianNB\n",
    "from sklearn.metrics import accuracy_score, fbeta_score\n",
    "\n",
    "NB_model= GaussianNB()\n",
    "\n",
    "NB_model.fit(X_train, y_train)\n",
    "\n",
    "y_NB_model= NB_model.predict(X_test)\n",
    "\n",
    "print('Test accuracy: ', accuracy_score(y_test, y_NB_model))\n",
    "print('F2-score: ', fbeta_score(y_test, y_NB_model, beta=2))"
   ]
  },
  {
   "cell_type": "markdown",
   "metadata": {
    "colab_type": "text",
    "id": "doI6CmmY45V0"
   },
   "source": [
    "LDA(Linear Discriminant Analysis) Classifier"
   ]
  },
  {
   "cell_type": "code",
   "execution_count": 38,
   "metadata": {
    "colab": {
     "base_uri": "https://localhost:8080/",
     "height": 51
    },
    "colab_type": "code",
    "id": "m5kaLOlx5I4O",
    "outputId": "60d90b12-8661-46cc-c3c4-41457d6c769c"
   },
   "outputs": [
    {
     "name": "stdout",
     "output_type": "stream",
     "text": [
      "Test accuracy:  0.9974510330024148\n",
      "F2-score:  0.7971014492753623\n"
     ]
    }
   ],
   "source": [
    "from sklearn.discriminant_analysis import LinearDiscriminantAnalysis\n",
    "from sklearn.metrics import accuracy_score\n",
    "from sklearn.metrics import fbeta_score\n",
    "\n",
    "LDA= LinearDiscriminantAnalysis(n_components=1)\n",
    "\n",
    "LDA.fit(X_train, y_train)\n",
    "\n",
    "y_pred_LDA= LDA.predict(X_test)\n",
    "\n",
    "print('Test accuracy: ', accuracy_score(y_test, y_pred_LDA))\n",
    "print('F2-score: ', fbeta_score(y_test, y_pred_LDA, beta=2))"
   ]
  },
  {
   "cell_type": "markdown",
   "metadata": {
    "colab_type": "text",
    "id": "OrEybYLk6Ycg"
   },
   "source": [
    "Stacking Classifier"
   ]
  },
  {
   "cell_type": "code",
   "execution_count": 39,
   "metadata": {
    "colab": {
     "base_uri": "https://localhost:8080/",
     "height": 225
    },
    "colab_type": "code",
    "id": "qvLbFohQ6an1",
    "outputId": "190b8d62-2a4f-4156-bec2-1046fd91ff01"
   },
   "outputs": [
    {
     "name": "stdout",
     "output_type": "stream",
     "text": [
      "RandomizedSearchCV\n",
      "0.8213256484149856\n",
      "\n",
      "GaussianNB\n",
      "0.6079664570230608\n",
      "\n",
      "LinearDiscriminantAnalysis\n",
      "0.7971014492753623\n",
      "\n",
      "StackingClassifier\n",
      "0.7971014492753623\n",
      "\n"
     ]
    }
   ],
   "source": [
    "from sklearn.ensemble import StackingClassifier\n",
    "\n",
    "stacking_clf = StackingClassifier(estimators=[('Random_Search_CV', random_clf), \n",
    "                                          ('Gaussian_NB', NB_model), \n",
    "                                          ('lda', LDA)])\n",
    "\n",
    "stacking_clf.fit(X_train, y_train)\n",
    "\n",
    "from sklearn.metrics import fbeta_score\n",
    "for clf in (random_clf, NB_model, LDA, stacking_clf):\n",
    "    clf.fit(X_train, y_train)\n",
    "    y_prediction = clf.predict(X_test)\n",
    "    print(clf.__class__.__name__)\n",
    "    print(fbeta_score(y_test, y_prediction,beta=2))\n",
    "    print()"
   ]
  },
  {
   "cell_type": "code",
   "execution_count": 0,
   "metadata": {
    "colab": {},
    "colab_type": "code",
    "id": "W_5O8wFSNJyW"
   },
   "outputs": [],
   "source": [
    "pd.DataFrame({'Id': test_data.Id, 'Target': target_values}).to_csv('solution_baseP2.csv', index =False)"
   ]
  },
  {
   "cell_type": "code",
   "execution_count": 0,
   "metadata": {
    "colab": {},
    "colab_type": "code",
    "id": "q5DLZqeeuCbB"
   },
   "outputs": [],
   "source": [
    "target_values2= rndf.predict(test_data_subset)"
   ]
  },
  {
   "cell_type": "code",
   "execution_count": 0,
   "metadata": {
    "colab": {},
    "colab_type": "code",
    "id": "5jifGYTuuDUM"
   },
   "outputs": [],
   "source": [
    "pd.DataFrame({'Id': test_data.Id, 'Target': target_values2}).to_csv('solution_baseP22.csv', index =False)"
   ]
  },
  {
   "cell_type": "code",
   "execution_count": 0,
   "metadata": {
    "colab": {},
    "colab_type": "code",
    "id": "Cr1KZQwdvo9D"
   },
   "outputs": [],
   "source": [
    "target_values3= gridS_dtree.predict(test_data_subset)"
   ]
  },
  {
   "cell_type": "code",
   "execution_count": 0,
   "metadata": {
    "colab": {},
    "colab_type": "code",
    "id": "HMzCWsuJvxF4"
   },
   "outputs": [],
   "source": [
    "pd.DataFrame({'Id': test_data.Id, 'Target': target_values3}).to_csv('solution_baseP23.csv', index =False)"
   ]
  },
  {
   "cell_type": "code",
   "execution_count": 0,
   "metadata": {
    "colab": {},
    "colab_type": "code",
    "id": "rvq1bSluwVab"
   },
   "outputs": [],
   "source": [
    "target_values4= MLP.predict(test_data_subset)"
   ]
  },
  {
   "cell_type": "code",
   "execution_count": 0,
   "metadata": {
    "colab": {},
    "colab_type": "code",
    "id": "SLT2bU9ewcS0"
   },
   "outputs": [],
   "source": [
    "pd.DataFrame({'Id': test_data.Id, 'Target': target_values4}).to_csv('solution_baseP24.csv', index =False)"
   ]
  },
  {
   "cell_type": "code",
   "execution_count": 0,
   "metadata": {
    "colab": {},
    "colab_type": "code",
    "id": "psnQ9wQzxLpu"
   },
   "outputs": [],
   "source": [
    "target_values5= grid_xgboost.predict(test_data_subset)"
   ]
  },
  {
   "cell_type": "code",
   "execution_count": 0,
   "metadata": {
    "colab": {},
    "colab_type": "code",
    "id": "AANNboPayMkY"
   },
   "outputs": [],
   "source": [
    "pd.DataFrame({'Id': test_data.Id, 'Target': target_values5}).to_csv('solution_baseP25.csv', index =False)"
   ]
  },
  {
   "cell_type": "code",
   "execution_count": 0,
   "metadata": {
    "colab": {},
    "colab_type": "code",
    "id": "mVQR5RLPzGQz"
   },
   "outputs": [],
   "source": [
    "target_values6= DSgrid_xgb.predict(test_data_subset)"
   ]
  },
  {
   "cell_type": "code",
   "execution_count": 0,
   "metadata": {
    "colab": {},
    "colab_type": "code",
    "id": "d-uscfsVzN-G"
   },
   "outputs": [],
   "source": [
    "pd.DataFrame({'Id': test_data.Id, 'Target': target_values6}).to_csv('solution_baseP26.csv', index =False)"
   ]
  },
  {
   "cell_type": "code",
   "execution_count": 0,
   "metadata": {
    "colab": {},
    "colab_type": "code",
    "id": "ScZ1eZj_1HHt"
   },
   "outputs": [],
   "source": [
    "target_values7= grid_dtree.predict(test_data_subset)\n",
    "pd.DataFrame({'Id': test_data.Id, 'Target': target_values7}).to_csv('solution_baseP27.csv', index =False)"
   ]
  },
  {
   "cell_type": "code",
   "execution_count": 0,
   "metadata": {
    "colab": {},
    "colab_type": "code",
    "id": "FsiLA9UV0ndH"
   },
   "outputs": [],
   "source": [
    "target_values8= rfGridSearch.predict(test_data_subset)\n",
    "pd.DataFrame({'Id': test_data.Id, 'Target': target_values8}).to_csv('solution_baseP28.csv', index =False)"
   ]
  },
  {
   "cell_type": "code",
   "execution_count": 0,
   "metadata": {
    "colab": {},
    "colab_type": "code",
    "id": "29Sv1P870ZMu"
   },
   "outputs": [],
   "source": [
    "target_values9= model.predict(test_data_subset)\n",
    "pd.DataFrame({'Id': test_data.Id, 'Target': target_values9}).to_csv('solution_baseP29.csv', index =False)"
   ]
  },
  {
   "cell_type": "code",
   "execution_count": 0,
   "metadata": {
    "colab": {},
    "colab_type": "code",
    "id": "LIKsW1Hn6N4y"
   },
   "outputs": [],
   "source": [
    "target_values10= stacking_clf.predict(test_data_subset)\n",
    "pd.DataFrame({'Id': test_data.Id, 'Target': target_values10}).to_csv('solution_baseP210.csv', index =False)"
   ]
  },
  {
   "cell_type": "code",
   "execution_count": 0,
   "metadata": {
    "colab": {},
    "colab_type": "code",
    "id": "7gvzF9kQV4Cs"
   },
   "outputs": [],
   "source": [
    "target_values11= random_clf.predict(test_data_subset)\n",
    "pd.DataFrame({'Id': test_data.Id, 'Target': target_values11}).to_csv('solution_baseP211.csv', index =False)"
   ]
  },
  {
   "cell_type": "code",
   "execution_count": 0,
   "metadata": {
    "colab": {},
    "colab_type": "code",
    "id": "QUdFtvuTWxMx"
   },
   "outputs": [],
   "source": [
    "target_values12= stacking_clf.predict(test_data_subset)\n",
    "pd.DataFrame({'Id': test_data.Id, 'Target': target_values12}).to_csv('solution_baseP212.csv', index =False)"
   ]
  },
  {
   "cell_type": "code",
   "execution_count": 0,
   "metadata": {
    "colab": {},
    "colab_type": "code",
    "id": "1DHKB5rFX6J8"
   },
   "outputs": [],
   "source": [
    "target_values13= clf.predict(test_data_subset)\n",
    "pd.DataFrame({'Id': test_data.Id, 'Target': target_values13}).to_csv('solution_baseP213.csv', index =False)"
   ]
  },
  {
   "cell_type": "code",
   "execution_count": 0,
   "metadata": {
    "colab": {},
    "colab_type": "code",
    "id": "4I6BNv0fCrrq"
   },
   "outputs": [],
   "source": [
    "target_values14= LDA.predict(test_data_subset)\n",
    "pd.DataFrame({'Id': test_data.Id, 'Target': target_values14}).to_csv('solution_baseP214.csv', index =False)\n"
   ]
  },
  {
   "cell_type": "code",
   "execution_count": 0,
   "metadata": {
    "colab": {},
    "colab_type": "code",
    "id": "SFhcAz78RuIj"
   },
   "outputs": [],
   "source": [
    "target_values15= voting_clf.predict(test_data_subset)\n",
    "pd.DataFrame({'Id': test_data.Id, 'Target': target_values15}).to_csv('solution_baseP215.csv', index =False)\n"
   ]
  },
  {
   "cell_type": "code",
   "execution_count": 0,
   "metadata": {
    "colab": {},
    "colab_type": "code",
    "id": "ujFE5vozmS4i"
   },
   "outputs": [],
   "source": [
    "target_values16= voting_clf2.predict(test_data_subset)\n",
    "pd.DataFrame({'Id': test_data.Id, 'Target': target_values16}).to_csv('solution_baseP216.csv', index =False)"
   ]
  },
  {
   "cell_type": "code",
   "execution_count": 0,
   "metadata": {
    "colab": {},
    "colab_type": "code",
    "id": "k6uxYCY62kBb"
   },
   "outputs": [],
   "source": [
    "target_values17= stacking_clf.predict(test_data_subset)\n",
    "pd.DataFrame({'Id': test_data.Id, 'Target': target_values17}).to_csv('solution_baseP217.csv', index =False)"
   ]
  },
  {
   "cell_type": "code",
   "execution_count": 0,
   "metadata": {
    "colab": {},
    "colab_type": "code",
    "id": "5ofd1Cog4y8x"
   },
   "outputs": [],
   "source": [
    "target_values18= NB_model.predict(test_data_subset)\n",
    "pd.DataFrame({'Id': test_data.Id, 'Target': target_values18}).to_csv('solution_baseP218.csv', index =False)"
   ]
  },
  {
   "cell_type": "code",
   "execution_count": 0,
   "metadata": {
    "colab": {},
    "colab_type": "code",
    "id": "C82MdYknW75L"
   },
   "outputs": [],
   "source": [
    "target_values19= voting_clf_soft.predict(test_data_subset)\n",
    "pd.DataFrame({'Id': test_data.Id, 'Target': target_values19}).to_csv('solution_baseP219.csv', index =False)"
   ]
  },
  {
   "cell_type": "code",
   "execution_count": 0,
   "metadata": {
    "colab": {},
    "colab_type": "code",
    "id": "yfiADmlhCUz2"
   },
   "outputs": [],
   "source": [
    "target_values20= MLP.predict(test_data_subset)\n",
    "pd.DataFrame({'Id': test_data.Id, 'Target': target_values20}).to_csv('solution_baseP220.csv', index =False)"
   ]
  }
 ],
 "metadata": {
  "accelerator": "TPU",
  "colab": {
   "name": "Copy of Project 2.ipynb",
   "provenance": []
  },
  "kernelspec": {
   "display_name": "Python 3",
   "language": "python",
   "name": "python3"
  },
  "language_info": {
   "codemirror_mode": {
    "name": "ipython",
    "version": 3
   },
   "file_extension": ".py",
   "mimetype": "text/x-python",
   "name": "python",
   "nbconvert_exporter": "python",
   "pygments_lexer": "ipython3",
   "version": "3.7.4"
  }
 },
 "nbformat": 4,
 "nbformat_minor": 1
}
